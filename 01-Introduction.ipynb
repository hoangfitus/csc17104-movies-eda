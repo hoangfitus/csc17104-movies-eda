{
 "cells": [
  {
   "cell_type": "markdown",
   "metadata": {},
   "source": [
    "# The Movies Dataset\n",
    "\n",
    "(Last Updated: 21/11/2024)\n",
    "\n",
    "---"
   ]
  },
  {
   "cell_type": "markdown",
   "metadata": {},
   "source": [
    "## 1. Môi trường\n"
   ]
  },
  {
   "cell_type": "code",
   "execution_count": 1,
   "metadata": {},
   "outputs": [],
   "source": [
    "import numpy as np\n",
    "import matplotlib.pyplot as plt\n",
    "import seaborn as sns\n",
    "import pandas as pd"
   ]
  },
  {
   "cell_type": "markdown",
   "metadata": {},
   "source": [
    "## 2. Đọc dữ liệu và thu thập thông tin"
   ]
  },
  {
   "cell_type": "markdown",
   "metadata": {},
   "source": [
    "### 2.1. Chủ đề và nguồn dữ liệu\n",
    "\n",
    "- Bộ dữ liệu chứa thông tin và đánh giá của **45.000 bộ phim** được phát hành từ tháng 7 năm 2017 về trước.\n",
    "- Dữ liệu bao gồm tổng cộng là **7 tệp tin**, có tệp chứa **26 triệu lượt đánh giá** từ 270.000 người dùng.\n",
    "- Bộ dữ liệu **The Movies Dataset** được lấy trên **Kaggle** tại [đây](https://www.kaggle.com/rounakbanik/the-movies-dataset) của tác giả **Rounak Banik**."
   ]
  },
  {
   "cell_type": "markdown",
   "metadata": {},
   "source": [
    "### 2.2. Sự cho phép\n",
    "- License của tập dữ liệu là [CC0: Public Domain](https://creativecommons.org/publicdomain/zero/1.0/) nên có thể sử dụng mà không cần xin phép."
   ]
  },
  {
   "cell_type": "markdown",
   "metadata": {},
   "source": [
    "### 2.3. Cách tác giả thu thập dữ liệu\n",
    "- Theo tác giả, đây là tập hợp dữ liệu được thu thập từ TMDB và GroupLens.\n",
    "  - *The Movie Database (TMDB) is a popular, user editable database for movies and TV shows.*\n",
    "  - *GroupLens is a research lab at the University of Minnesota specializing in recommender systems, online communities, etc.*\n",
    "- Các thông tin chi tiết về phim, credits và các từ khóa được tác giả thu thập từ TDMB bằng cách sử dụng API của họ.\n",
    "- Còn các thông tin về liên kết phim và điểm đánh giá được lấy từ website chính thức của GroupLens."
   ]
  },
  {
   "cell_type": "markdown",
   "metadata": {},
   "source": [
    "### 2.4. Cảm hứng\n",
    "- Tác giả đã thu thập dữ liệu này để thực hiện dự án về phân tích dữ liệu của mình.\n",
    "- Để kể lại lịch sử và câu chuyện của điện ảnh cùng với đó là đưa ra các loại hệ thống đề xuất khác nhau, bộ dữ liệu này được tạo ra."
   ]
  },
  {
   "cell_type": "markdown",
   "metadata": {},
   "source": [
    "### 2.5. Đọc dữ liệu"
   ]
  },
  {
   "cell_type": "code",
   "execution_count": 105,
   "metadata": {},
   "outputs": [
    {
     "name": "stderr",
     "output_type": "stream",
     "text": [
      "/tmp/ipykernel_33142/353060908.py:1: DtypeWarning: Columns (10) have mixed types. Specify dtype option on import or set low_memory=False.\n",
      "  movies = pd.read_csv('Data/movies_metadata.csv')\n"
     ]
    }
   ],
   "source": [
    "movies = pd.read_csv('Data/movies_metadata.csv')\n",
    "ratings = pd.read_csv('Data/ratings_small.csv')\n",
    "links = pd.read_csv('Data/links_small.csv')"
   ]
  }
 ],
 "metadata": {
  "kernelspec": {
   "display_name": "eda-env",
   "language": "python",
   "name": "python3"
  },
  "language_info": {
   "codemirror_mode": {
    "name": "ipython",
    "version": 3
   },
   "file_extension": ".py",
   "mimetype": "text/x-python",
   "name": "python",
   "nbconvert_exporter": "python",
   "pygments_lexer": "ipython3",
   "version": "3.11.7"
  }
 },
 "nbformat": 4,
 "nbformat_minor": 2
}
