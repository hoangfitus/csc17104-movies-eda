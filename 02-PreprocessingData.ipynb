{
 "cells": [
  {
   "cell_type": "markdown",
   "metadata": {},
   "source": [
    "# The Movies Dataset\n",
    "\n",
    "(Last Updated: 21/11/2024)\n",
    "\n",
    "---"
   ]
  },
  {
   "cell_type": "markdown",
   "metadata": {},
   "source": [
    "# <div style=\"text-align:center; border-radius:15px; padding:15px; margin:0; font-size:110%; font-family:Arial, sans-serif; background-color:#0e560c; color:#E5EFE5;overflow:hidden; box-shadow:0 4px 8px rgba(0, 0, 0, 0.3);\"><b> 2. Data preprocessing </b></div>"
   ]
  },
  {
   "cell_type": "markdown",
   "metadata": {},
   "source": [
    "Import các thư viện cần thiết"
   ]
  },
  {
   "cell_type": "code",
   "execution_count": 1,
   "metadata": {},
   "outputs": [],
   "source": [
    "import pandas as pd\n",
    "import ast\n",
    "import warnings  # Để loại bỏ các warning\n",
    "warnings.filterwarnings(\"ignore\")\n",
    "pd.set_option('display.max_columns', None) # hiển thị full các cột"
   ]
  },
  {
   "cell_type": "markdown",
   "metadata": {},
   "source": [
    "Đọc file dữ liệu từ file `movies_metadata.csv` vào Dataframe"
   ]
  },
  {
   "cell_type": "code",
   "execution_count": 2,
   "metadata": {},
   "outputs": [
    {
     "data": {
      "text/plain": [
       "(45463, 24)"
      ]
     },
     "execution_count": 2,
     "metadata": {},
     "output_type": "execute_result"
    }
   ],
   "source": [
    "raw_df = pd.read_csv('./data/raw/movies_metadata.csv',encoding='utf-8')\n",
    "raw_df.shape"
   ]
  },
  {
   "cell_type": "markdown",
   "metadata": {},
   "source": [
    "Kiểm tra thông tin các cột"
   ]
  },
  {
   "cell_type": "code",
   "execution_count": 3,
   "metadata": {},
   "outputs": [
    {
     "name": "stdout",
     "output_type": "stream",
     "text": [
      "<class 'pandas.core.frame.DataFrame'>\n",
      "RangeIndex: 45463 entries, 0 to 45462\n",
      "Data columns (total 24 columns):\n",
      " #   Column                 Non-Null Count  Dtype  \n",
      "---  ------                 --------------  -----  \n",
      " 0   adult                  45463 non-null  bool   \n",
      " 1   belongs_to_collection  4491 non-null   object \n",
      " 2   budget                 45463 non-null  int64  \n",
      " 3   genres                 45463 non-null  object \n",
      " 4   homepage               7779 non-null   object \n",
      " 5   id                     45463 non-null  int64  \n",
      " 6   imdb_id                45446 non-null  object \n",
      " 7   original_language      45452 non-null  object \n",
      " 8   original_title         45463 non-null  object \n",
      " 9   overview               44509 non-null  object \n",
      " 10  popularity             45463 non-null  float64\n",
      " 11  poster_path            45080 non-null  object \n",
      " 12  production_companies   45463 non-null  object \n",
      " 13  production_countries   45463 non-null  object \n",
      " 14  release_date           45379 non-null  object \n",
      " 15  revenue                45463 non-null  int64  \n",
      " 16  runtime                45206 non-null  float64\n",
      " 17  spoken_languages       45463 non-null  object \n",
      " 18  status                 45382 non-null  object \n",
      " 19  tagline                20413 non-null  object \n",
      " 20  title                  45463 non-null  object \n",
      " 21  video                  45463 non-null  bool   \n",
      " 22  vote_average           45463 non-null  float64\n",
      " 23  vote_count             45463 non-null  int64  \n",
      "dtypes: bool(2), float64(3), int64(4), object(15)\n",
      "memory usage: 7.7+ MB\n"
     ]
    }
   ],
   "source": [
    "raw_df.info()"
   ]
  },
  {
   "cell_type": "markdown",
   "metadata": {},
   "source": [
    "#### Dữ liệu có bao nhiêu dòng và bao nhiêu cột ?"
   ]
  },
  {
   "cell_type": "code",
   "execution_count": 4,
   "metadata": {},
   "outputs": [
    {
     "name": "stdout",
     "output_type": "stream",
     "text": [
      "Dữ liệu có 45463 dòng và 24 cột\n"
     ]
    }
   ],
   "source": [
    "rows, cols = raw_df.shape\n",
    "print(f'Dữ liệu có {rows} dòng và {cols} cột')"
   ]
  },
  {
   "cell_type": "markdown",
   "metadata": {},
   "source": [
    "#### Mỗi hàng trong dữ liệu có ý nghĩa gì?"
   ]
  },
  {
   "cell_type": "markdown",
   "metadata": {},
   "source": [
    "Mỗi hàng trong tập dữ liệu chứa thông tin cơ bản về một bộ phim."
   ]
  },
  {
   "cell_type": "markdown",
   "metadata": {},
   "source": [
    "#### Có hàng bị trùng không?\n",
    "- Nếu có, có bao nhiêu hàng bị trùng và chúng có giống hệt nhau không?"
   ]
  },
  {
   "cell_type": "code",
   "execution_count": 5,
   "metadata": {},
   "outputs": [
    {
     "name": "stdout",
     "output_type": "stream",
     "text": [
      "Số hàng bị trùng: 17\n",
      "Các hàng bị trùng có giống hệt nhau không: True\n"
     ]
    }
   ],
   "source": [
    "num_duplicates = raw_df.duplicated().sum()\n",
    "print(f'Số hàng bị trùng: {num_duplicates}')\n",
    "if num_duplicates > 0:\n",
    "    duplicate_rows = raw_df[raw_df.duplicated()]\n",
    "    print(\"Các hàng bị trùng có giống hệt nhau không:\", duplicate_rows.equals(raw_df.loc[duplicate_rows.index]))"
   ]
  },
  {
   "cell_type": "markdown",
   "metadata": {},
   "source": [
    "- Loại bỏ các hàng bị trùng:"
   ]
  },
  {
   "cell_type": "code",
   "execution_count": 6,
   "metadata": {},
   "outputs": [
    {
     "name": "stdout",
     "output_type": "stream",
     "text": [
      "Số hàng bị trùng: 0\n",
      "Dữ liệu còn 45446 dòng và 24 cột\n"
     ]
    }
   ],
   "source": [
    "raw_df.drop_duplicates(inplace=True)\n",
    "num_duplicates = raw_df.duplicated().sum()\n",
    "print(f'Số hàng bị trùng: {num_duplicates}')\n",
    "print(f'Dữ liệu còn {raw_df.shape[0]} dòng và {raw_df.shape[1]} cột')"
   ]
  },
  {
   "cell_type": "markdown",
   "metadata": {},
   "source": [
    "#### Ý nghĩa của mỗi cột"
   ]
  },
  {
   "cell_type": "markdown",
   "metadata": {},
   "source": [
    "- `adult`: Trạng thái phim phù hợp với đối tượng người xem là người lớn (True/False).\n",
    "- `belongs_to_collection`: Thông tin về các bộ phim cùng bộ sưu tập với phim đó.\n",
    "- `budget`: Ngân sách sản xuất của bộ phim.\n",
    "- `genres`: Thể loại phim.\n",
    "- `homepage`: Trang web chính thức của bộ phim.\n",
    "- `imdb_id`: ID phim trên IMDb.\n",
    "- `id`: ID của bộ phim, dùng để xác định bộ phim trong hệ thống.\n",
    "- `original_language`: Ngôn ngữ gốc của bộ phim.\n",
    "- `original_title`: Tiêu đề gốc của bộ phim.\n",
    "- `overview`: Mô tả ngắn gọn nội dung của bộ phim.\n",
    "- `popularity`: Độ phổ biến của bộ phim dựa trên số liệu và sự quan tâm từ người dùng.\n",
    "- `poster_path`: Đường dẫn tới hình ảnh poster của bộ phim.\n",
    "- `production_companies`: Các công ty sản xuất bộ phim.\n",
    "- `production_countries`: Các quốc gia sản xuất bộ phim.\n",
    "- `release_date`: Ngày phát hành của bộ phim.\n",
    "- `revenue`: Doanh thu của bộ phim.\n",
    "- `runtime`: Thời gian của bộ phim (phút).\n",
    "- `spoken_languages`: Các ngôn ngữ được sử dụng trong bộ phim.\n",
    "- `status`: Trạng thái phát hành.\n",
    "- `tagline`: Câu slogan của bộ phim.\n",
    "- `title`: Tiêu đề của bộ phim.\n",
    "- `video`: Có phải là video chính thức của bộ phim hay không (True/False).\n",
    "- `vote_average`: Điểm trung bình của các đánh giá từ người dùng.\n",
    "- `vote_count`: Số lượng người dùng đã đánh giá bộ phim."
   ]
  },
  {
   "cell_type": "markdown",
   "metadata": {},
   "source": [
    "#### Kiểu dữ liệu hiện tại của mỗi cột như nào? Có cột nào có kiểu dữ liệu không phù hợp không?"
   ]
  },
  {
   "cell_type": "markdown",
   "metadata": {},
   "source": [
    "Xem kiểu dữ liệu của mỗi cột"
   ]
  },
  {
   "cell_type": "code",
   "execution_count": 7,
   "metadata": {},
   "outputs": [
    {
     "data": {
      "text/plain": [
       "adult                       bool\n",
       "belongs_to_collection     object\n",
       "budget                     int64\n",
       "genres                    object\n",
       "homepage                  object\n",
       "id                         int64\n",
       "imdb_id                   object\n",
       "original_language         object\n",
       "original_title            object\n",
       "overview                  object\n",
       "popularity               float64\n",
       "poster_path               object\n",
       "production_companies      object\n",
       "production_countries      object\n",
       "release_date              object\n",
       "revenue                    int64\n",
       "runtime                  float64\n",
       "spoken_languages          object\n",
       "status                    object\n",
       "tagline                   object\n",
       "title                     object\n",
       "video                       bool\n",
       "vote_average             float64\n",
       "vote_count                 int64\n",
       "dtype: object"
      ]
     },
     "execution_count": 7,
     "metadata": {},
     "output_type": "execute_result"
    }
   ],
   "source": [
    "raw_df.dtypes"
   ]
  },
  {
   "cell_type": "markdown",
   "metadata": {},
   "source": [
    "**Nhận xét**"
   ]
  },
  {
   "cell_type": "markdown",
   "metadata": {},
   "source": [
    "- Cột `id` có kiểu dữ liệu là `int64`, cột này sẽ được chuyển sang kiểu `object` vì nó mang ý nghĩa định danh và không mối quan hệ toán học với các cột khác.\n",
    "- Cột `release_date` hiện tại có kiểu `object`, cột này sẽ được chuyển sang kiểu `datetime` để thuận tiện cho việc xử lí và phân tích ngày tháng.\n",
    "- Cột `adult` và `video` có kiểu dữ liệu là `bool`, các gái trị True/False của cột này sẽ được chuyển sang dạng 1/0 tương ứng với kiểu dữ liệu `object` phù hợp cho ý nghĩa phân loại của cột.\n",
    "- Cột `belongs_to_collection` sẽ được thay đổi để thuận tiện và dễ dàng cho việc phân tích bằng cách chuyển giá trị NaN thành 0 và các giá trị khác thành 1. Giúp xác định nhanh chóng xem một bộ phim có thuộc bộ sưu tập hay không.\n",
    "- Dữ liệu đang được lưu trong các cột `genres`, `production_companies`, `production_countries`, `spoken_languages` đang được lưu dưới dạng từ điển (dictionary), các cột này sẽ được chuyển đổi thành một chuỗi dữ liệu chỉ chứa thông tin chính của cột đó để dễ dàng thực hiện phân tích."
   ]
  },
  {
   "cell_type": "markdown",
   "metadata": {},
   "source": [
    "Chuyển đổi kiểu dữ liệu cho các cột"
   ]
  },
  {
   "cell_type": "code",
   "execution_count": 8,
   "metadata": {},
   "outputs": [],
   "source": [
    "\n",
    "raw_df['id'] = raw_df['id'].astype('object')\n",
    "raw_df['release_date'] = pd.to_datetime(raw_df['release_date'], errors='coerce')\n",
    "raw_df['adult'] = raw_df['adult'].astype(int).astype('object')\n",
    "raw_df['video'] = raw_df['video'].astype(int).astype('object')\n",
    "\n",
    "cols_to_convert = ['genres', 'production_companies', 'production_countries', 'spoken_languages']\n",
    "for col in cols_to_convert:\n",
    "    raw_df[col] = raw_df[col].fillna('[]')\n",
    "    raw_df[col] = raw_df[col].apply(ast.literal_eval)\n",
    "\n",
    "for col in cols_to_convert:\n",
    "    raw_df[col] = raw_df[col].apply(lambda x: ', '.join([d['name'] for d in x]) if isinstance(x, list) else x)\n",
    "    \n",
    "raw_df['belongs_to_collection'] = raw_df['belongs_to_collection'].notnull().astype(int).astype('object')"
   ]
  },
  {
   "cell_type": "markdown",
   "metadata": {},
   "source": [
    "Kiểm tra lại kiểu dữ liệu của các cột"
   ]
  },
  {
   "cell_type": "code",
   "execution_count": 9,
   "metadata": {},
   "outputs": [
    {
     "data": {
      "text/plain": [
       "adult                            object\n",
       "belongs_to_collection            object\n",
       "budget                            int64\n",
       "genres                           object\n",
       "homepage                         object\n",
       "id                               object\n",
       "imdb_id                          object\n",
       "original_language                object\n",
       "original_title                   object\n",
       "overview                         object\n",
       "popularity                      float64\n",
       "poster_path                      object\n",
       "production_companies             object\n",
       "production_countries             object\n",
       "release_date             datetime64[ns]\n",
       "revenue                           int64\n",
       "runtime                         float64\n",
       "spoken_languages                 object\n",
       "status                           object\n",
       "tagline                          object\n",
       "title                            object\n",
       "video                            object\n",
       "vote_average                    float64\n",
       "vote_count                        int64\n",
       "dtype: object"
      ]
     },
     "execution_count": 9,
     "metadata": {},
     "output_type": "execute_result"
    }
   ],
   "source": [
    "raw_df.dtypes "
   ]
  },
  {
   "cell_type": "markdown",
   "metadata": {},
   "source": [
    "Xem lại một số hàng sau khi đã chuyển đối, ta thấy các hàng chứa dữ liệu từ dictionary đã được chuyển sang dạng chuỗi dữ liệu giúp dễ đọc hơn"
   ]
  },
  {
   "cell_type": "code",
   "execution_count": 10,
   "metadata": {},
   "outputs": [
    {
     "data": {
      "text/html": [
       "<div>\n",
       "<style scoped>\n",
       "    .dataframe tbody tr th:only-of-type {\n",
       "        vertical-align: middle;\n",
       "    }\n",
       "\n",
       "    .dataframe tbody tr th {\n",
       "        vertical-align: top;\n",
       "    }\n",
       "\n",
       "    .dataframe thead th {\n",
       "        text-align: right;\n",
       "    }\n",
       "</style>\n",
       "<table border=\"1\" class=\"dataframe\">\n",
       "  <thead>\n",
       "    <tr style=\"text-align: right;\">\n",
       "      <th></th>\n",
       "      <th>adult</th>\n",
       "      <th>belongs_to_collection</th>\n",
       "      <th>budget</th>\n",
       "      <th>genres</th>\n",
       "      <th>homepage</th>\n",
       "      <th>id</th>\n",
       "      <th>imdb_id</th>\n",
       "      <th>original_language</th>\n",
       "      <th>original_title</th>\n",
       "      <th>overview</th>\n",
       "      <th>popularity</th>\n",
       "      <th>poster_path</th>\n",
       "      <th>production_companies</th>\n",
       "      <th>production_countries</th>\n",
       "      <th>release_date</th>\n",
       "      <th>revenue</th>\n",
       "      <th>runtime</th>\n",
       "      <th>spoken_languages</th>\n",
       "      <th>status</th>\n",
       "      <th>tagline</th>\n",
       "      <th>title</th>\n",
       "      <th>video</th>\n",
       "      <th>vote_average</th>\n",
       "      <th>vote_count</th>\n",
       "    </tr>\n",
       "  </thead>\n",
       "  <tbody>\n",
       "    <tr>\n",
       "      <th>9540</th>\n",
       "      <td>0</td>\n",
       "      <td>0</td>\n",
       "      <td>0</td>\n",
       "      <td>Comedy</td>\n",
       "      <td>NaN</td>\n",
       "      <td>88288</td>\n",
       "      <td>tt0041514</td>\n",
       "      <td>en</td>\n",
       "      <td>It  Happens Every Spring</td>\n",
       "      <td>A scientist discovers a formula that makes a b...</td>\n",
       "      <td>0.208891</td>\n",
       "      <td>/j7il9qnRyoAf5JPIstDo85xLmVL.jpg</td>\n",
       "      <td>Twentieth Century Fox Film Corporation</td>\n",
       "      <td>United States of America</td>\n",
       "      <td>1949-06-10</td>\n",
       "      <td>0</td>\n",
       "      <td>87.0</td>\n",
       "      <td>English</td>\n",
       "      <td>Released</td>\n",
       "      <td>\"oh yeah?\" \"Oh yeah!\"</td>\n",
       "      <td>It  Happens Every Spring</td>\n",
       "      <td>0</td>\n",
       "      <td>6.5</td>\n",
       "      <td>4</td>\n",
       "    </tr>\n",
       "    <tr>\n",
       "      <th>10339</th>\n",
       "      <td>0</td>\n",
       "      <td>0</td>\n",
       "      <td>7000000</td>\n",
       "      <td>Comedy, Drama</td>\n",
       "      <td>http://wip.warnerbros.com/everythingisillumina...</td>\n",
       "      <td>340</td>\n",
       "      <td>tt0404030</td>\n",
       "      <td>en</td>\n",
       "      <td>Everything is Illuminated</td>\n",
       "      <td>A film based on the semi-autobiographical nove...</td>\n",
       "      <td>7.738924</td>\n",
       "      <td>/A3uFw8whRO8Td2pkTRMGlbIh4Op.jpg</td>\n",
       "      <td>Stillking Films, Warner Independent Pictures (...</td>\n",
       "      <td>United States of America</td>\n",
       "      <td>2005-09-16</td>\n",
       "      <td>2697930</td>\n",
       "      <td>106.0</td>\n",
       "      <td>English, Pусский, Український</td>\n",
       "      <td>Released</td>\n",
       "      <td>Leave Normal Behind.</td>\n",
       "      <td>Everything is Illuminated</td>\n",
       "      <td>0</td>\n",
       "      <td>7.4</td>\n",
       "      <td>251</td>\n",
       "    </tr>\n",
       "    <tr>\n",
       "      <th>4389</th>\n",
       "      <td>0</td>\n",
       "      <td>0</td>\n",
       "      <td>0</td>\n",
       "      <td>Horror, Thriller</td>\n",
       "      <td>NaN</td>\n",
       "      <td>49365</td>\n",
       "      <td>tt0095484</td>\n",
       "      <td>en</td>\n",
       "      <td>Lady in White</td>\n",
       "      <td>Locked in a school closet during Halloween 196...</td>\n",
       "      <td>1.197890</td>\n",
       "      <td>/6x5CSLEP2EmOGvhXAQUmuhYubWB.jpg</td>\n",
       "      <td>New Sky Communications Inc.</td>\n",
       "      <td>United States of America</td>\n",
       "      <td>1988-04-22</td>\n",
       "      <td>0</td>\n",
       "      <td>112.0</td>\n",
       "      <td>English</td>\n",
       "      <td>Released</td>\n",
       "      <td>The year is 1962. The place is Willowpoint Fal...</td>\n",
       "      <td>Lady in White</td>\n",
       "      <td>0</td>\n",
       "      <td>6.3</td>\n",
       "      <td>25</td>\n",
       "    </tr>\n",
       "  </tbody>\n",
       "</table>\n",
       "</div>"
      ],
      "text/plain": [
       "      adult belongs_to_collection   budget            genres  \\\n",
       "9540      0                     0        0            Comedy   \n",
       "10339     0                     0  7000000     Comedy, Drama   \n",
       "4389      0                     0        0  Horror, Thriller   \n",
       "\n",
       "                                                homepage     id    imdb_id  \\\n",
       "9540                                                 NaN  88288  tt0041514   \n",
       "10339  http://wip.warnerbros.com/everythingisillumina...    340  tt0404030   \n",
       "4389                                                 NaN  49365  tt0095484   \n",
       "\n",
       "      original_language             original_title  \\\n",
       "9540                 en   It  Happens Every Spring   \n",
       "10339                en  Everything is Illuminated   \n",
       "4389                 en              Lady in White   \n",
       "\n",
       "                                                overview  popularity  \\\n",
       "9540   A scientist discovers a formula that makes a b...    0.208891   \n",
       "10339  A film based on the semi-autobiographical nove...    7.738924   \n",
       "4389   Locked in a school closet during Halloween 196...    1.197890   \n",
       "\n",
       "                            poster_path  \\\n",
       "9540   /j7il9qnRyoAf5JPIstDo85xLmVL.jpg   \n",
       "10339  /A3uFw8whRO8Td2pkTRMGlbIh4Op.jpg   \n",
       "4389   /6x5CSLEP2EmOGvhXAQUmuhYubWB.jpg   \n",
       "\n",
       "                                    production_companies  \\\n",
       "9540              Twentieth Century Fox Film Corporation   \n",
       "10339  Stillking Films, Warner Independent Pictures (...   \n",
       "4389                         New Sky Communications Inc.   \n",
       "\n",
       "           production_countries release_date  revenue  runtime  \\\n",
       "9540   United States of America   1949-06-10        0     87.0   \n",
       "10339  United States of America   2005-09-16  2697930    106.0   \n",
       "4389   United States of America   1988-04-22        0    112.0   \n",
       "\n",
       "                    spoken_languages    status  \\\n",
       "9540                         English  Released   \n",
       "10339  English, Pусский, Український  Released   \n",
       "4389                         English  Released   \n",
       "\n",
       "                                                 tagline  \\\n",
       "9540                               \"oh yeah?\" \"Oh yeah!\"   \n",
       "10339                               Leave Normal Behind.   \n",
       "4389   The year is 1962. The place is Willowpoint Fal...   \n",
       "\n",
       "                           title video  vote_average  vote_count  \n",
       "9540    It  Happens Every Spring     0           6.5           4  \n",
       "10339  Everything is Illuminated     0           7.4         251  \n",
       "4389               Lady in White     0           6.3          25  "
      ]
     },
     "execution_count": 10,
     "metadata": {},
     "output_type": "execute_result"
    }
   ],
   "source": [
    "raw_df.sample(3)"
   ]
  },
  {
   "cell_type": "markdown",
   "metadata": {},
   "source": [
    "#### 6. Với mỗi cột dữ liệu dạng số, cách phân bố các giá trị như thế nào?"
   ]
  },
  {
   "cell_type": "markdown",
   "metadata": {},
   "source": [
    "- Tỉ lệ missing value"
   ]
  },
  {
   "cell_type": "code",
   "execution_count": 11,
   "metadata": {},
   "outputs": [
    {
     "data": {
      "text/plain": [
       "budget          0.000\n",
       "popularity      0.000\n",
       "revenue         0.000\n",
       "runtime         0.006\n",
       "vote_average    0.000\n",
       "vote_count      0.000\n",
       "dtype: float64"
      ]
     },
     "execution_count": 11,
     "metadata": {},
     "output_type": "execute_result"
    }
   ],
   "source": [
    "(raw_df.select_dtypes('number').isna().sum() / len(raw_df)).round(3)"
   ]
  },
  {
   "cell_type": "markdown",
   "metadata": {},
   "source": [
    "Như vậy có thể thấy chỉ có duy nhất cột `runtime` có missing ratio là 0.006%, với tỉ lệ rất nhỏ, để đơn giản, chúng em thực hiện điền vào giá trị trung vị của toàn bộ cột runtime vào các giá trị thiếu."
   ]
  },
  {
   "cell_type": "code",
   "execution_count": 12,
   "metadata": {},
   "outputs": [],
   "source": [
    "raw_df['runtime'].fillna(raw_df['runtime'].median(), inplace=True)"
   ]
  },
  {
   "cell_type": "markdown",
   "metadata": {},
   "source": [
    " - Các giá trị thống kê của dữ liệu"
   ]
  },
  {
   "cell_type": "code",
   "execution_count": 13,
   "metadata": {},
   "outputs": [
    {
     "data": {
      "text/html": [
       "<div>\n",
       "<style scoped>\n",
       "    .dataframe tbody tr th:only-of-type {\n",
       "        vertical-align: middle;\n",
       "    }\n",
       "\n",
       "    .dataframe tbody tr th {\n",
       "        vertical-align: top;\n",
       "    }\n",
       "\n",
       "    .dataframe thead th {\n",
       "        text-align: right;\n",
       "    }\n",
       "</style>\n",
       "<table border=\"1\" class=\"dataframe\">\n",
       "  <thead>\n",
       "    <tr style=\"text-align: right;\">\n",
       "      <th></th>\n",
       "      <th>budget</th>\n",
       "      <th>popularity</th>\n",
       "      <th>revenue</th>\n",
       "      <th>runtime</th>\n",
       "      <th>vote_average</th>\n",
       "      <th>vote_count</th>\n",
       "    </tr>\n",
       "  </thead>\n",
       "  <tbody>\n",
       "    <tr>\n",
       "      <th>count</th>\n",
       "      <td>4.544600e+04</td>\n",
       "      <td>45446.00</td>\n",
       "      <td>4.544600e+04</td>\n",
       "      <td>45446.00</td>\n",
       "      <td>45446.00</td>\n",
       "      <td>45446.00</td>\n",
       "    </tr>\n",
       "    <tr>\n",
       "      <th>mean</th>\n",
       "      <td>4.226138e+06</td>\n",
       "      <td>2.92</td>\n",
       "      <td>1.121276e+07</td>\n",
       "      <td>94.13</td>\n",
       "      <td>5.62</td>\n",
       "      <td>109.92</td>\n",
       "    </tr>\n",
       "    <tr>\n",
       "      <th>std</th>\n",
       "      <td>1.742720e+07</td>\n",
       "      <td>6.01</td>\n",
       "      <td>6.434186e+07</td>\n",
       "      <td>38.30</td>\n",
       "      <td>1.92</td>\n",
       "      <td>491.38</td>\n",
       "    </tr>\n",
       "    <tr>\n",
       "      <th>min</th>\n",
       "      <td>0.000000e+00</td>\n",
       "      <td>0.00</td>\n",
       "      <td>0.000000e+00</td>\n",
       "      <td>0.00</td>\n",
       "      <td>0.00</td>\n",
       "      <td>0.00</td>\n",
       "    </tr>\n",
       "    <tr>\n",
       "      <th>25%</th>\n",
       "      <td>0.000000e+00</td>\n",
       "      <td>0.39</td>\n",
       "      <td>0.000000e+00</td>\n",
       "      <td>85.00</td>\n",
       "      <td>5.00</td>\n",
       "      <td>3.00</td>\n",
       "    </tr>\n",
       "    <tr>\n",
       "      <th>50%</th>\n",
       "      <td>0.000000e+00</td>\n",
       "      <td>1.13</td>\n",
       "      <td>0.000000e+00</td>\n",
       "      <td>95.00</td>\n",
       "      <td>6.00</td>\n",
       "      <td>10.00</td>\n",
       "    </tr>\n",
       "    <tr>\n",
       "      <th>75%</th>\n",
       "      <td>0.000000e+00</td>\n",
       "      <td>3.68</td>\n",
       "      <td>0.000000e+00</td>\n",
       "      <td>107.00</td>\n",
       "      <td>6.80</td>\n",
       "      <td>34.00</td>\n",
       "    </tr>\n",
       "    <tr>\n",
       "      <th>max</th>\n",
       "      <td>3.800000e+08</td>\n",
       "      <td>547.49</td>\n",
       "      <td>2.787965e+09</td>\n",
       "      <td>1256.00</td>\n",
       "      <td>10.00</td>\n",
       "      <td>14075.00</td>\n",
       "    </tr>\n",
       "  </tbody>\n",
       "</table>\n",
       "</div>"
      ],
      "text/plain": [
       "             budget  popularity       revenue   runtime  vote_average  \\\n",
       "count  4.544600e+04    45446.00  4.544600e+04  45446.00      45446.00   \n",
       "mean   4.226138e+06        2.92  1.121276e+07     94.13          5.62   \n",
       "std    1.742720e+07        6.01  6.434186e+07     38.30          1.92   \n",
       "min    0.000000e+00        0.00  0.000000e+00      0.00          0.00   \n",
       "25%    0.000000e+00        0.39  0.000000e+00     85.00          5.00   \n",
       "50%    0.000000e+00        1.13  0.000000e+00     95.00          6.00   \n",
       "75%    0.000000e+00        3.68  0.000000e+00    107.00          6.80   \n",
       "max    3.800000e+08      547.49  2.787965e+09   1256.00         10.00   \n",
       "\n",
       "       vote_count  \n",
       "count    45446.00  \n",
       "mean       109.92  \n",
       "std        491.38  \n",
       "min          0.00  \n",
       "25%          3.00  \n",
       "50%         10.00  \n",
       "75%         34.00  \n",
       "max      14075.00  "
      ]
     },
     "execution_count": 13,
     "metadata": {},
     "output_type": "execute_result"
    }
   ],
   "source": [
    "raw_df.select_dtypes('number').describe().round(2)"
   ]
  },
  {
   "cell_type": "markdown",
   "metadata": {},
   "source": [
    "#### Với mỗi cột dữ liệu không phải kiểu số, cách phân bố các giá trị như thế nào?"
   ]
  },
  {
   "cell_type": "code",
   "execution_count": 14,
   "metadata": {},
   "outputs": [
    {
     "data": {
      "text/html": [
       "<div>\n",
       "<style scoped>\n",
       "    .dataframe tbody tr th:only-of-type {\n",
       "        vertical-align: middle;\n",
       "    }\n",
       "\n",
       "    .dataframe tbody tr th {\n",
       "        vertical-align: top;\n",
       "    }\n",
       "\n",
       "    .dataframe thead th {\n",
       "        text-align: right;\n",
       "    }\n",
       "</style>\n",
       "<table border=\"1\" class=\"dataframe\">\n",
       "  <thead>\n",
       "    <tr style=\"text-align: right;\">\n",
       "      <th></th>\n",
       "      <th>adult</th>\n",
       "      <th>belongs_to_collection</th>\n",
       "      <th>genres</th>\n",
       "      <th>homepage</th>\n",
       "      <th>id</th>\n",
       "      <th>imdb_id</th>\n",
       "      <th>original_language</th>\n",
       "      <th>original_title</th>\n",
       "      <th>overview</th>\n",
       "      <th>poster_path</th>\n",
       "      <th>production_companies</th>\n",
       "      <th>production_countries</th>\n",
       "      <th>release_date</th>\n",
       "      <th>spoken_languages</th>\n",
       "      <th>status</th>\n",
       "      <th>tagline</th>\n",
       "      <th>title</th>\n",
       "      <th>video</th>\n",
       "    </tr>\n",
       "  </thead>\n",
       "  <tbody>\n",
       "    <tr>\n",
       "      <th>missing_ratio</th>\n",
       "      <td>0.0</td>\n",
       "      <td>0.0</td>\n",
       "      <td>0.0</td>\n",
       "      <td>82.9</td>\n",
       "      <td>0.0</td>\n",
       "      <td>0.0</td>\n",
       "      <td>0.0</td>\n",
       "      <td>0.0</td>\n",
       "      <td>2.1</td>\n",
       "      <td>0.8</td>\n",
       "      <td>0.0</td>\n",
       "      <td>0.0</td>\n",
       "      <td>0.2</td>\n",
       "      <td>0.0</td>\n",
       "      <td>0.2</td>\n",
       "      <td>55.1</td>\n",
       "      <td>0.0</td>\n",
       "      <td>0.0</td>\n",
       "    </tr>\n",
       "    <tr>\n",
       "      <th>num_values</th>\n",
       "      <td>2</td>\n",
       "      <td>2</td>\n",
       "      <td>41</td>\n",
       "      <td>7677</td>\n",
       "      <td>45433</td>\n",
       "      <td>45417</td>\n",
       "      <td>90</td>\n",
       "      <td>44199</td>\n",
       "      <td>172515</td>\n",
       "      <td>45025</td>\n",
       "      <td>27895</td>\n",
       "      <td>289</td>\n",
       "      <td>17335</td>\n",
       "      <td>144</td>\n",
       "      <td>7</td>\n",
       "      <td>24275</td>\n",
       "      <td>42988</td>\n",
       "      <td>2</td>\n",
       "    </tr>\n",
       "    <tr>\n",
       "      <th>value_ratios</th>\n",
       "      <td>{'0': 99.9802, '1': 0.0198}</td>\n",
       "      <td>{'0': 90.12014, '1': 9.87986}</td>\n",
       "      <td>{'Drama': 12.79199, 'Comedy': 9.43035, ' Drama...</td>\n",
       "      <td>{'nan': 82.87644, 'http://www.georgecarlin.com...</td>\n",
       "      <td>{'13209': 0.0044, '110428': 0.0044, '77221': 0...</td>\n",
       "      <td>{'nan': 0.03741, 'tt0100361': 0.0044, 'tt02702...</td>\n",
       "      <td>{'en': 70.98314, 'fr': 5.36241, 'it': 3.36443,...</td>\n",
       "      <td>{'I': 0.02147, 'Love': 0.02147, 'Hamlet': 0.01...</td>\n",
       "      <td>{'nan': 0.53274, ' however': 0.1988, 'No overv...</td>\n",
       "      <td>{'nan': 0.84276, '/5D7UBSEgdyONE6Lql6xS7s6OLcW...</td>\n",
       "      <td>{'': 14.34404, 'Paramount Pictures': 1.2055, '...</td>\n",
       "      <td>{'United States of America': 33.08905, '': 11....</td>\n",
       "      <td>{'2008-01-01': 0.29926, '2009-01-01': 0.26625,...</td>\n",
       "      <td>{'English': 46.98569, '': 7.08795, 'Français':...</td>\n",
       "      <td>{'Released': 99.02082, 'Rumored': 0.50389, 'Po...</td>\n",
       "      <td>{'nan': 50.40362, '000': 0.02818, ' SHOCKS': 0...</td>\n",
       "      <td>{'I': 0.0322, 'Love': 0.0322, 'Cinderella': 0....</td>\n",
       "      <td>{'0': 99.79536, '1': 0.20464}</td>\n",
       "    </tr>\n",
       "  </tbody>\n",
       "</table>\n",
       "</div>"
      ],
      "text/plain": [
       "                                     adult          belongs_to_collection  \\\n",
       "missing_ratio                          0.0                            0.0   \n",
       "num_values                               2                              2   \n",
       "value_ratios   {'0': 99.9802, '1': 0.0198}  {'0': 90.12014, '1': 9.87986}   \n",
       "\n",
       "                                                          genres  \\\n",
       "missing_ratio                                                0.0   \n",
       "num_values                                                    41   \n",
       "value_ratios   {'Drama': 12.79199, 'Comedy': 9.43035, ' Drama...   \n",
       "\n",
       "                                                        homepage  \\\n",
       "missing_ratio                                               82.9   \n",
       "num_values                                                  7677   \n",
       "value_ratios   {'nan': 82.87644, 'http://www.georgecarlin.com...   \n",
       "\n",
       "                                                              id  \\\n",
       "missing_ratio                                                0.0   \n",
       "num_values                                                 45433   \n",
       "value_ratios   {'13209': 0.0044, '110428': 0.0044, '77221': 0...   \n",
       "\n",
       "                                                         imdb_id  \\\n",
       "missing_ratio                                                0.0   \n",
       "num_values                                                 45417   \n",
       "value_ratios   {'nan': 0.03741, 'tt0100361': 0.0044, 'tt02702...   \n",
       "\n",
       "                                               original_language  \\\n",
       "missing_ratio                                                0.0   \n",
       "num_values                                                    90   \n",
       "value_ratios   {'en': 70.98314, 'fr': 5.36241, 'it': 3.36443,...   \n",
       "\n",
       "                                                  original_title  \\\n",
       "missing_ratio                                                0.0   \n",
       "num_values                                                 44199   \n",
       "value_ratios   {'I': 0.02147, 'Love': 0.02147, 'Hamlet': 0.01...   \n",
       "\n",
       "                                                        overview  \\\n",
       "missing_ratio                                                2.1   \n",
       "num_values                                                172515   \n",
       "value_ratios   {'nan': 0.53274, ' however': 0.1988, 'No overv...   \n",
       "\n",
       "                                                     poster_path  \\\n",
       "missing_ratio                                                0.8   \n",
       "num_values                                                 45025   \n",
       "value_ratios   {'nan': 0.84276, '/5D7UBSEgdyONE6Lql6xS7s6OLcW...   \n",
       "\n",
       "                                            production_companies  \\\n",
       "missing_ratio                                                0.0   \n",
       "num_values                                                 27895   \n",
       "value_ratios   {'': 14.34404, 'Paramount Pictures': 1.2055, '...   \n",
       "\n",
       "                                            production_countries  \\\n",
       "missing_ratio                                                0.0   \n",
       "num_values                                                   289   \n",
       "value_ratios   {'United States of America': 33.08905, '': 11....   \n",
       "\n",
       "                                                    release_date  \\\n",
       "missing_ratio                                                0.2   \n",
       "num_values                                                 17335   \n",
       "value_ratios   {'2008-01-01': 0.29926, '2009-01-01': 0.26625,...   \n",
       "\n",
       "                                                spoken_languages  \\\n",
       "missing_ratio                                                0.0   \n",
       "num_values                                                   144   \n",
       "value_ratios   {'English': 46.98569, '': 7.08795, 'Français':...   \n",
       "\n",
       "                                                          status  \\\n",
       "missing_ratio                                                0.2   \n",
       "num_values                                                     7   \n",
       "value_ratios   {'Released': 99.02082, 'Rumored': 0.50389, 'Po...   \n",
       "\n",
       "                                                         tagline  \\\n",
       "missing_ratio                                               55.1   \n",
       "num_values                                                 24275   \n",
       "value_ratios   {'nan': 50.40362, '000': 0.02818, ' SHOCKS': 0...   \n",
       "\n",
       "                                                           title  \\\n",
       "missing_ratio                                                0.0   \n",
       "num_values                                                 42988   \n",
       "value_ratios   {'I': 0.0322, 'Love': 0.0322, 'Cinderella': 0....   \n",
       "\n",
       "                                       video  \n",
       "missing_ratio                            0.0  \n",
       "num_values                                 2  \n",
       "value_ratios   {'0': 99.79536, '1': 0.20464}  "
      ]
     },
     "execution_count": 14,
     "metadata": {},
     "output_type": "execute_result"
    }
   ],
   "source": [
    "non_numeric_df = raw_df.select_dtypes(exclude='number')\n",
    "\n",
    "def missing_ratio(s):\n",
    "    return (s.isna().mean() * 100).round(1)\n",
    "\n",
    "def num_values(s):\n",
    "    s = s.astype(str).fillna('')\n",
    "    s = s.str.split(',')\n",
    "    s = s.explode()\n",
    "    return len(s.value_counts())\n",
    "\n",
    "def value_ratios(s):\n",
    "    s = s.astype(str).fillna('')\n",
    "    s = s.str.split(',')\n",
    "    s = s.explode()\n",
    "    totalCount = (~s.isna()).sum()\n",
    "    return ((s.value_counts() / totalCount * 100).round(5)).to_dict()\n",
    "\n",
    "cat_col_info_df = non_numeric_df.agg([missing_ratio, num_values, value_ratios])\n",
    "cat_col_info_df"
   ]
  },
  {
   "cell_type": "markdown",
   "metadata": {},
   "source": [
    "**Nhận xét**: \n",
    "- Từ các thông tin ở trên, ta thấy cột `homepage` có missing_ratio rất cao với 82.9% và cột `tagline` có missing_ratio cao là 55.1%, đồng thời vì hai cột này dường như không cung cấp thông tin quan trọng cho việc phân tích và có khả năng không góp phần làm rõ các đặc điểm chính của dữ liệu nên nhóm em quyết định bỏ 2 cột dữ liệu này. \n",
    "\n",
    "- Đối với các cột dữ liệu còn lại có giá trị bị thiếu, chúng em sẽ thay thế các giá trị thiếu bằng `unknown` vì chúng vẫn có khả năng cung cấp thông tin hữu ích trong các phân tích sau này.\n",
    "\n",
    "- Giá trị tỉ lệ trong cột `adult` cho thấy sự chênh lệch rõ rệt, với phần lớn các bộ phim không được gán nhãn là 'Adult' chiếm 99,9%."
   ]
  },
  {
   "cell_type": "code",
   "execution_count": 15,
   "metadata": {},
   "outputs": [],
   "source": [
    "cols_with_missing_values = raw_df.columns[raw_df.isnull().any()]\n",
    "raw_df[cols_with_missing_values] = raw_df[cols_with_missing_values].fillna('unknown')\n",
    "raw_df.drop(columns=['homepage', 'tagline'], inplace=True)"
   ]
  },
  {
   "cell_type": "markdown",
   "metadata": {},
   "source": [
    "Xem lại thông tin sau khi xử lí"
   ]
  },
  {
   "cell_type": "code",
   "execution_count": 16,
   "metadata": {},
   "outputs": [
    {
     "data": {
      "text/html": [
       "<div>\n",
       "<style scoped>\n",
       "    .dataframe tbody tr th:only-of-type {\n",
       "        vertical-align: middle;\n",
       "    }\n",
       "\n",
       "    .dataframe tbody tr th {\n",
       "        vertical-align: top;\n",
       "    }\n",
       "\n",
       "    .dataframe thead th {\n",
       "        text-align: right;\n",
       "    }\n",
       "</style>\n",
       "<table border=\"1\" class=\"dataframe\">\n",
       "  <thead>\n",
       "    <tr style=\"text-align: right;\">\n",
       "      <th></th>\n",
       "      <th>adult</th>\n",
       "      <th>belongs_to_collection</th>\n",
       "      <th>genres</th>\n",
       "      <th>id</th>\n",
       "      <th>imdb_id</th>\n",
       "      <th>original_language</th>\n",
       "      <th>original_title</th>\n",
       "      <th>overview</th>\n",
       "      <th>poster_path</th>\n",
       "      <th>production_companies</th>\n",
       "      <th>production_countries</th>\n",
       "      <th>release_date</th>\n",
       "      <th>spoken_languages</th>\n",
       "      <th>status</th>\n",
       "      <th>title</th>\n",
       "      <th>video</th>\n",
       "    </tr>\n",
       "  </thead>\n",
       "  <tbody>\n",
       "    <tr>\n",
       "      <th>missing_ratio</th>\n",
       "      <td>0.0</td>\n",
       "      <td>0.0</td>\n",
       "      <td>0.0</td>\n",
       "      <td>0.0</td>\n",
       "      <td>0.0</td>\n",
       "      <td>0.0</td>\n",
       "      <td>0.0</td>\n",
       "      <td>0.0</td>\n",
       "      <td>0.0</td>\n",
       "      <td>0.0</td>\n",
       "      <td>0.0</td>\n",
       "      <td>0.0</td>\n",
       "      <td>0.0</td>\n",
       "      <td>0.0</td>\n",
       "      <td>0.0</td>\n",
       "      <td>0.0</td>\n",
       "    </tr>\n",
       "    <tr>\n",
       "      <th>num_values</th>\n",
       "      <td>2</td>\n",
       "      <td>2</td>\n",
       "      <td>41</td>\n",
       "      <td>45433</td>\n",
       "      <td>45417</td>\n",
       "      <td>90</td>\n",
       "      <td>44199</td>\n",
       "      <td>172515</td>\n",
       "      <td>45025</td>\n",
       "      <td>27895</td>\n",
       "      <td>289</td>\n",
       "      <td>17335</td>\n",
       "      <td>144</td>\n",
       "      <td>7</td>\n",
       "      <td>42988</td>\n",
       "      <td>2</td>\n",
       "    </tr>\n",
       "    <tr>\n",
       "      <th>value_ratios</th>\n",
       "      <td>{'0': 99.9802, '1': 0.0198}</td>\n",
       "      <td>{'0': 90.12014, '1': 9.87986}</td>\n",
       "      <td>{'Drama': 12.79199, 'Comedy': 9.43035, ' Drama...</td>\n",
       "      <td>{'13209': 0.0044, '110428': 0.0044, '77221': 0...</td>\n",
       "      <td>{'unknown': 0.03741, 'tt0100361': 0.0044, 'tt0...</td>\n",
       "      <td>{'en': 70.98314, 'fr': 5.36241, 'it': 3.36443,...</td>\n",
       "      <td>{'I': 0.02147, 'Love': 0.02147, 'Hamlet': 0.01...</td>\n",
       "      <td>{'unknown': 0.53274, ' however': 0.1988, 'No o...</td>\n",
       "      <td>{'unknown': 0.84276, '/5D7UBSEgdyONE6Lql6xS7s6...</td>\n",
       "      <td>{'': 14.34404, 'Paramount Pictures': 1.2055, '...</td>\n",
       "      <td>{'United States of America': 33.08905, '': 11....</td>\n",
       "      <td>{'2008-01-01 00:00:00': 0.29926, '2009-01-01 0...</td>\n",
       "      <td>{'English': 46.98569, '': 7.08795, 'Français':...</td>\n",
       "      <td>{'Released': 99.02082, 'Rumored': 0.50389, 'Po...</td>\n",
       "      <td>{'I': 0.0322, 'Love': 0.0322, 'Cinderella': 0....</td>\n",
       "      <td>{'0': 99.79536, '1': 0.20464}</td>\n",
       "    </tr>\n",
       "  </tbody>\n",
       "</table>\n",
       "</div>"
      ],
      "text/plain": [
       "                                     adult          belongs_to_collection  \\\n",
       "missing_ratio                          0.0                            0.0   \n",
       "num_values                               2                              2   \n",
       "value_ratios   {'0': 99.9802, '1': 0.0198}  {'0': 90.12014, '1': 9.87986}   \n",
       "\n",
       "                                                          genres  \\\n",
       "missing_ratio                                                0.0   \n",
       "num_values                                                    41   \n",
       "value_ratios   {'Drama': 12.79199, 'Comedy': 9.43035, ' Drama...   \n",
       "\n",
       "                                                              id  \\\n",
       "missing_ratio                                                0.0   \n",
       "num_values                                                 45433   \n",
       "value_ratios   {'13209': 0.0044, '110428': 0.0044, '77221': 0...   \n",
       "\n",
       "                                                         imdb_id  \\\n",
       "missing_ratio                                                0.0   \n",
       "num_values                                                 45417   \n",
       "value_ratios   {'unknown': 0.03741, 'tt0100361': 0.0044, 'tt0...   \n",
       "\n",
       "                                               original_language  \\\n",
       "missing_ratio                                                0.0   \n",
       "num_values                                                    90   \n",
       "value_ratios   {'en': 70.98314, 'fr': 5.36241, 'it': 3.36443,...   \n",
       "\n",
       "                                                  original_title  \\\n",
       "missing_ratio                                                0.0   \n",
       "num_values                                                 44199   \n",
       "value_ratios   {'I': 0.02147, 'Love': 0.02147, 'Hamlet': 0.01...   \n",
       "\n",
       "                                                        overview  \\\n",
       "missing_ratio                                                0.0   \n",
       "num_values                                                172515   \n",
       "value_ratios   {'unknown': 0.53274, ' however': 0.1988, 'No o...   \n",
       "\n",
       "                                                     poster_path  \\\n",
       "missing_ratio                                                0.0   \n",
       "num_values                                                 45025   \n",
       "value_ratios   {'unknown': 0.84276, '/5D7UBSEgdyONE6Lql6xS7s6...   \n",
       "\n",
       "                                            production_companies  \\\n",
       "missing_ratio                                                0.0   \n",
       "num_values                                                 27895   \n",
       "value_ratios   {'': 14.34404, 'Paramount Pictures': 1.2055, '...   \n",
       "\n",
       "                                            production_countries  \\\n",
       "missing_ratio                                                0.0   \n",
       "num_values                                                   289   \n",
       "value_ratios   {'United States of America': 33.08905, '': 11....   \n",
       "\n",
       "                                                    release_date  \\\n",
       "missing_ratio                                                0.0   \n",
       "num_values                                                 17335   \n",
       "value_ratios   {'2008-01-01 00:00:00': 0.29926, '2009-01-01 0...   \n",
       "\n",
       "                                                spoken_languages  \\\n",
       "missing_ratio                                                0.0   \n",
       "num_values                                                   144   \n",
       "value_ratios   {'English': 46.98569, '': 7.08795, 'Français':...   \n",
       "\n",
       "                                                          status  \\\n",
       "missing_ratio                                                0.0   \n",
       "num_values                                                     7   \n",
       "value_ratios   {'Released': 99.02082, 'Rumored': 0.50389, 'Po...   \n",
       "\n",
       "                                                           title  \\\n",
       "missing_ratio                                                0.0   \n",
       "num_values                                                 42988   \n",
       "value_ratios   {'I': 0.0322, 'Love': 0.0322, 'Cinderella': 0....   \n",
       "\n",
       "                                       video  \n",
       "missing_ratio                            0.0  \n",
       "num_values                                 2  \n",
       "value_ratios   {'0': 99.79536, '1': 0.20464}  "
      ]
     },
     "execution_count": 16,
     "metadata": {},
     "output_type": "execute_result"
    }
   ],
   "source": [
    "non_numeric_df = raw_df.select_dtypes(exclude='number')\n",
    "cat_col_info_df = non_numeric_df.agg([missing_ratio, num_values, value_ratios])\n",
    "cat_col_info_df"
   ]
  },
  {
   "cell_type": "markdown",
   "metadata": {},
   "source": [
    "**Lưu vào file csv mới sau khi xử lí**"
   ]
  },
  {
   "cell_type": "code",
   "execution_count": 18,
   "metadata": {},
   "outputs": [],
   "source": [
    "raw_df.to_csv('./data/processed/movies_processed.csv', index=False)"
   ]
  }
 ],
 "metadata": {
  "kernelspec": {
   "display_name": "min_ds-env",
   "language": "python",
   "name": "python3"
  },
  "language_info": {
   "codemirror_mode": {
    "name": "ipython",
    "version": 3
   },
   "file_extension": ".py",
   "mimetype": "text/x-python",
   "name": "python",
   "nbconvert_exporter": "python",
   "pygments_lexer": "ipython3",
   "version": "3.13.0"
  }
 },
 "nbformat": 4,
 "nbformat_minor": 2
}
