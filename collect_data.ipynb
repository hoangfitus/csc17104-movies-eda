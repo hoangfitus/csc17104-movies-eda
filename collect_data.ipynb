{
 "cells": [
  {
   "cell_type": "markdown",
   "metadata": {},
   "source": [
    "# Thu Thập Dữ Liệu\n",
    "The Movies Dataset\n",
    "\n",
    "---"
   ]
  },
  {
   "cell_type": "markdown",
   "metadata": {},
   "source": [
    "## 1. Chủ đề và nguồn dữ liệu\n",
    "\n",
    "- Bộ dữ liệu chứa thông tin và đánh giá của **45.000 bộ phim** được phát hành từ tháng 7 năm 2017 về trước.\n",
    "- Dữ liệu bao gồm tổng cộng là **7 tệp tin**, có tệp chứa **26 triệu lượt đánh giá** từ 270.000 người dùng.\n",
    "- Bộ dữ liệu **The Movies Dataset** được lấy trên **Kaggle** tại [đây](https://www.kaggle.com/rounakbanik/the-movies-dataset) của tác giả **Rounak Banik**."
   ]
  },
  {
   "cell_type": "markdown",
   "metadata": {},
   "source": [
    "## 2. Bản quyền\n",
    "- License của tập dữ liệu là [CC0: Public Domain](https://creativecommons.org/publicdomain/zero/1.0/) nên có thể sử dụng mà không cần xin phép."
   ]
  },
  {
   "cell_type": "markdown",
   "metadata": {},
   "source": [
    "## 3. Cách tác giả thu thập dữ liệu\n",
    "- Theo tác giả, đây là tập hợp dữ liệu được thu thập từ TMDB và GroupLens.\n",
    "  - *The Movie Database (TMDB) is a popular, user editable database for movies and TV shows.*\n",
    "  - *GroupLens is a research lab at the University of Minnesota specializing in recommender systems, online communities, etc.*\n",
    "- Các thông tin chi tiết về phim, credits và các từ khóa được tác giả thu thập từ TDMB bằng cách sử dụng API của họ.\n",
    "- Còn các thông tin về liên kết phim và điểm đánh giá được lấy từ website chính thức của GroupLens."
   ]
  },
  {
   "cell_type": "markdown",
   "metadata": {},
   "source": [
    "## 4. Cảm hứng\n",
    "- Tác giả đã thu thập dữ liệu này để thực hiện dự án về phân tích dữ liệu của mình.\n",
    "- Để kể lại lịch sử và câu chuyện của điện ảnh cùng với đó là đưa ra các loại hệ thống đề xuất khác nhau, bộ dữ liệu này được tạo ra."
   ]
  },
  {
   "cell_type": "markdown",
   "metadata": {},
   "source": [
    "## 5. Đọc dữ liệu\n",
    "\n",
    "Bộ dữ liệu gồm 7 tệp tin:\n",
    "1. **movies_metadata.csv**: Đây là tệp chính chứa nhiều thông tin về phim nhất.\n",
    "    - Posters, backdrops, budget, revenue, release dates, languages, etc.\n",
    "    - Đây sẽ là tệp chính mà chúng ta sẽ sử dụng.\n",
    "2. **keywords.csv**: Chứa từ khóa về cốt truyện của các bộ phim.\n",
    "3. **credits.csv**: Bao gồm thông tin về Diễn viên và Đoàn làm phim của các phim.\n",
    "4. **links.csv**: Tệp chứa ID TMDB và IMDB của tất cả các phim\n",
    "5. **links_small.csv**: Chứa ID TMDB và IMDB của một tập hợp con nhỏ gồm 9.000 phim trong bộ dữ liệu đầy đủ.\n",
    "6. **ratings.csv**: Chứa 26 triệu đánh giá từ 270.000 người dùng cho tất cả 45.000 bộ phim.\n",
    "7. **ratings_small.csv**: Phiên bản nhỏ hơn chứa 100.000 đánh giá từ 700 người dùng cho 9.000 bộ phim."
   ]
  },
  {
   "cell_type": "markdown",
   "metadata": {},
   "source": [
    "Như vậy, vì mục đích học tập và chỉ khám phá dữ liệu, để dễ dàng và tối ưu hơn, chúng ta sẽ chỉ sử dụng tệp tin **movies_metadata.csv** cho việc khám phá dữ liệu ở bước tiếp theo."
   ]
  }
 ],
 "metadata": {
  "language_info": {
   "name": "python"
  }
 },
 "nbformat": 4,
 "nbformat_minor": 2
}
