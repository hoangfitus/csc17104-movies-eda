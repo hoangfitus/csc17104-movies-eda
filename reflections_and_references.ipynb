{
 "cells": [
  {
   "cell_type": "markdown",
   "metadata": {},
   "source": [
    "# Tự Đánh Giá và Tham Khảo\n",
    "The Movies Dataset\n",
    "\n",
    "---"
   ]
  },
  {
   "cell_type": "markdown",
   "metadata": {},
   "source": [
    "## 1. Tự đánh giá"
   ]
  },
  {
   "cell_type": "markdown",
   "metadata": {
    "vscode": {
     "languageId": "plaintext"
    }
   },
   "source": [
    "#### 1.1. Khó khăn\n",
    "\n",
    "- Quá trình tiền xử lí dữ liệu khó khăn và tốn thời gian, vì phải chuyển đổi dữ liệu của các cột về dạng hợp lý như ở cột genres spoken_languages và belongs_to_collection. \n",
    "\n",
    "- Việc xử lý điền missing value cho các cột tương đối khó khăn vì phải tìm cách điền các giá trị thích hợp như ở cột spoken_language, và xem xét việc loại bỏ các cột dữ liệu có gây ảnh hưởng gì không, vì việc thiếu hụt các cột dữ liệu có thể gây ra sai lệch trong kết quả cho bước phân tích và đặt câu hỏi. \n",
    "\n",
    "- Khó khăn trong việc tìm các insights quan trọng từ dữ liệu để đưa ra các câu hỏi hữu ích, vì điều này đòi hỏi việc phải nắm rõ dữ liệu và kiến thức liên quan đến chủ đề của tập dữ liệu về ngành công nghiệp điện ảnh.\n",
    "\n",
    "- Phải tìm hiểu cách trình bày các mục markdown làm sao cho hợp lí, dễ hiểu, giúp người đọc dễ dàng tiếp cận và nắm bắt nội dung bài viết.\n",
    "\n",
    "- Việc chọn biểu đồ để trực quan hóa và kỹ năng nhận xét biểu đồ để có thể truyền đạt hết ý nghĩa của biểu đồ.\n",
    "\n",
    "#### 1.2. Kiến thức học được\n",
    "\n",
    "- Hiểu rõ hơn về các bước quan trọng trong quy trình của một bài toán Khoa học Dữ liệu như tiền xử lý dữ liệu.\n",
    "\n",
    "- Hiểu hơn về cách lựa chọn các loại biểu đồ phù hợp cho việc trực quan hóa dữ liệu theo từng mục đích.\n",
    "\n",
    "- Hiểu rõ hơn về việc tính toán các giá trị thống kê từ đó giúp hiểu rõ hơn về dữ liệu.\n",
    "\n",
    "- Biết được các bước cơ bản để xử lí và tìm ra các thông tin hữu ích từ dữ liệu. "
   ]
  },
  {
   "cell_type": "markdown",
   "metadata": {},
   "source": [
    "## 2. Tài liệu tham khảo"
   ]
  }
 ],
 "metadata": {
  "language_info": {
   "name": "python"
  }
 },
 "nbformat": 4,
 "nbformat_minor": 2
}
