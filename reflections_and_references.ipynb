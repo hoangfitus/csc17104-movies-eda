{
 "cells": [
  {
   "cell_type": "markdown",
   "metadata": {},
   "source": [
    "# Tự Đánh Giá và Tham Khảo\n",
    "The Movies Dataset\n",
    "\n",
    "---"
   ]
  },
  {
   "cell_type": "markdown",
   "metadata": {},
   "source": [
    "## 1. Tự đánh giá"
   ]
  },
  {
   "cell_type": "markdown",
   "metadata": {},
   "source": [
    "### 1.1. Khó khăn"
   ]
  },
  {
   "cell_type": "markdown",
   "metadata": {},
   "source": [
    "#### Duy Hoàng\n",
    "\n",
    "- Bước khám phá và xử lý dữ liệu tốn khá nhiều thời gian vì có nhiều giá trị thiếu và có các cột với nhiều giá trị cần phải xử lý cẩn thận.\n",
    "- Việc đặt câu hỏi cũng khá khó khăn vì muốn câu hỏi đủ phức tạp và mang lại giá trị khi trả lời, nên phân vân nhiều về việc chọn câu hỏi.\n",
    "- Việc chọn câu hỏi cũng cần phải nắm rõ dữ liệu để việc phân tích được tốt và suôn sẻ hơn.\n",
    "- Đưa ra nhận xét và kết luận cũng cần sự chi tiết và tỉ mỉ, bên cạnh đó phải dễ dàng hiểu được thông điệp mà mình muốn truyền đạt.\n",
    "- Việc trình bày cũng cần phải rõ ràng, dễ hiểu và truyền đạt được thông điệp mà mình muốn truyền đạt."
   ]
  },
  {
   "cell_type": "markdown",
   "metadata": {},
   "source": [
    "#### Tuấn Anh\n",
    "\n",
    "- Bước đặt câu hỏi là bước khó nhất sao cho câu hỏi hợp lý, có giá trị và không bị mơ hồ.\n",
    "- Nhận xét khách quan và có giá trị dựa trên dữ liệu và thống kê.\n",
    "- Chưa biết cách khai thác sâu và nhiều khía cạch của dữ liệu.\n",
    "- Chưa biết cách mở rộng câu hỏi để phán ảnh nhiều hơn về nguồn dữ liệu.\n",
    "- Gặp khó khăn trong việc sắp xếp thời gian để cân bằng giữa thi cử và làm đồ án.\n",
    "- Tay em bị thương trong quá trình làm đồ án và có 1 số chậm tiến độ hơn so với những gì đã đề ra."
   ]
  },
  {
   "cell_type": "markdown",
   "metadata": {},
   "source": [
    "#### Anh Đấu\n",
    "\n",
    "- Quá trình tiền xử lí dữ liệu khó khăn và tốn thời gian, vì phải chuyển đổi dữ liệu của các cột về dạng hợp lý như ở cột genres spoken_languages và belongs_to_collection. \n",
    "- Việc xử lý điền missing value cho các cột tương đối khó khăn vì phải tìm cách điền các giá trị thích hợp như ở cột spoken_language, và xem xét việc loại bỏ các cột dữ liệu có gây ảnh hưởng gì không, vì việc thiếu hụt các cột dữ liệu có thể gây ra sai lệch trong kết quả cho bước phân tích và đặt câu hỏi. \n",
    "- Khó khăn trong việc tìm các insights quan trọng từ dữ liệu để đưa ra các câu hỏi hữu ích, vì điều này đòi hỏi việc phải nắm rõ dữ liệu và kiến thức liên quan đến chủ đề của tập dữ liệu về ngành công nghiệp điện ảnh.\n",
    "- Phải tìm hiểu cách trình bày các mục markdown làm sao cho hợp lí, dễ hiểu, giúp người đọc dễ dàng tiếp cận và nắm bắt nội dung bài viết.\n",
    "- Việc chọn biểu đồ để trực quan hóa và kỹ năng nhận xét biểu đồ để có thể truyền đạt hết ý nghĩa của biểu đồ."
   ]
  },
  {
   "cell_type": "markdown",
   "metadata": {},
   "source": [
    "### 1.2. Kiến thức học được"
   ]
  },
  {
   "cell_type": "markdown",
   "metadata": {},
   "source": [
    "#### Duy Hoàng\n",
    "\n",
    "- Có thêm kiến thức về các bộ phim thông qua việc phân tích và khám phá dữ liệu.\n",
    "- Có thêm kinh nghiệm với việc xử lý dữ liệu, đặt câu hỏi và trả lời câu hỏi dựa trên dữ liệu.\n",
    "- Biết được cách chọn biểu đồ cho việc trực quan hóa dữ liệu phù hợp.\n",
    "- Cải thiện kỹ năng trình bày và viết nhận xét.\n",
    "- Biết thêm 1 số thư viện mới trong Python như `wordcloud`."
   ]
  },
  {
   "cell_type": "markdown",
   "metadata": {},
   "source": [
    "#### Tuấn Anh\n",
    "\n",
    "- Biết cách tìm hiểu một bộ dữ liệu, hiểu được cách xử lý nó như thế nào.\n",
    "- Học được thêm về markdown và code python trong xử lý và biểu diễn dữ liệu bằng thư viện pandas.\n",
    "- Biết được có những dữ liệu sẽ có những cột không cần thiết và không có ích cho quá trình đánh giá dữ liệu.\n",
    "- Nhận ra bước đặt câu hỏi cũng rất quan trọng vì đặt câu hỏi hiệu quả sẽ giúp có cái nhìn tổng quan hơn về dữ liệu và sau khi trả lời câu hỏi sẽ đánh giá được nhiều khía cạnh về bộ dữ liệu hơn."
   ]
  },
  {
   "cell_type": "markdown",
   "metadata": {},
   "source": [
    "#### Anh Đấu\n",
    "\n",
    "- Hiểu rõ hơn về các bước quan trọng trong quy trình của một bài toán Khoa học Dữ liệu như tiền xử lý dữ liệu.\n",
    "- Hiểu hơn về cách lựa chọn các loại biểu đồ phù hợp cho việc trực quan hóa dữ liệu theo từng mục đích.\n",
    "- Hiểu rõ hơn về việc tính toán các giá trị thống kê từ đó giúp hiểu rõ hơn về dữ liệu.\n",
    "- Biết được các bước cơ bản để xử lí và tìm ra các thông tin hữu ích từ dữ liệu. "
   ]
  },
  {
   "cell_type": "markdown",
   "metadata": {},
   "source": [
    "### 1.3. Nếu có thời gian nhiều hơn, nhóm sẽ\n",
    "\n",
    "- Xử lý các dữ liệu thiếu một cách chi tiết hơn.\n",
    "- Phân tích sâu hơn về mối quan hệ giữa `overview` và các cột khác.\n",
    "- Tìm hiểu thêm về sự ảnh hưởng của thể loại đến 1 bộ phim.\n",
    "- Tìm ra nguyên nhân khiến một bộ phim có thể thành công hoặc thất bại.\n",
    "- Dành nhiều sự chú ý hơn cho mục preprocess để data có thể tốt hơn trong việc phân tích dữ liệu tiếp theo.\n",
    "- Chỉnh chu hơn trong việc giải thích đồ thị và cũng như tìm hiểu về nhiều khía cạnh hơn của câu hỏi."
   ]
  },
  {
   "cell_type": "markdown",
   "metadata": {},
   "source": [
    "## 2. Tài liệu tham khảo"
   ]
  },
  {
   "cell_type": "markdown",
   "metadata": {},
   "source": [
    "- [The Story of Film](https://www.kaggle.com/code/rounakbanik/the-story-of-film#Exploratory-Data-Analysis): Tham khảo cách khám phá dữ liệu và trả lời câu hỏi dựa trên dữ liệu.\n",
    "- [WordCloud](https://amueller.github.io/word_cloud/index.html): Xem cách sử dụng thư viện `wordcloud`.\n",
    "- [Github 1](https://github.com/atta161/FinalProject_LTKHDL_HKT), [Github 2](https://github.com/HuyHCMUS/DoAn_TH_LTKHDL): Tham khảo cách trình bày."
   ]
  }
 ],
 "metadata": {
  "kernelspec": {
   "display_name": "Python 3 (ipykernel)",
   "language": "python",
   "name": "python3"
  },
  "language_info": {
   "codemirror_mode": {
    "name": "ipython",
    "version": 3
   },
   "file_extension": ".py",
   "mimetype": "text/x-python",
   "name": "python",
   "nbconvert_exporter": "python",
   "pygments_lexer": "ipython3",
   "version": "3.11.7"
  }
 },
 "nbformat": 4,
 "nbformat_minor": 2
}
