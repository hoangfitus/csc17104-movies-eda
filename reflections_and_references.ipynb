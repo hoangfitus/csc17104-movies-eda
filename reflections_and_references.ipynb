{
 "cells": [
  {
   "cell_type": "markdown",
   "metadata": {},
   "source": [
    "# Tự Đánh Giá và Tham Khảo\n",
    "The Movies Dataset\n",
    "\n",
    "---"
   ]
  },
  {
   "cell_type": "markdown",
   "metadata": {},
   "source": [
    "## 1. Tự đánh giá"
   ]
  },
  {
   "cell_type": "markdown",
   "metadata": {},
   "source": [
    "### 1.1. Khó khăn"
   ]
  },
  {
   "cell_type": "markdown",
   "metadata": {},
   "source": [
    "#### Hoàng\n",
    "\n",
    "- Bước khám phá và xử lý dữ liệu tốn khá nhiều thời gian vì có nhiều giá trị thiếu và có các cột với nhiều giá trị cần phải xử lý cẩn thận.\n",
    "- Việc đặt câu hỏi cũng khá khó khăn vì muốn câu hỏi đủ phức tạp và mang lại giá trị khi trả lời, nên phân vân nhiều về việc chọn câu hỏi.\n",
    "- Việc chọn câu hỏi cũng cần phải nắm rõ dữ liệu để việc phân tích được tốt và suôn sẻ hơn.\n",
    "- Đưa ra nhận xét và kết luận cũng cần sự chi tiết và tỉ mỉ, bên cạnh đó phải dễ dàng hiểu được thông điệp mà mình muốn truyền đạt.\n",
    "- Việc trình bày cũng cần phải rõ ràng, dễ hiểu và truyền đạt được thông điệp mà mình muốn truyền đạt."
   ]
  },
  {
   "cell_type": "markdown",
   "metadata": {},
   "source": [
    "### 1.2. Kiến thức học được"
   ]
  },
  {
   "cell_type": "markdown",
   "metadata": {},
   "source": [
    "#### Hoàng\n",
    "\n",
    "- Có thêm kiến thức về các bộ phim thông qua việc phân tích và khám phá dữ liệu.\n",
    "- Có thêm kinh nghiệm với việc xử lý dữ liệu, đặt câu hỏi và trả lời câu hỏi dựa trên dữ liệu.\n",
    "- Biết được cách chọn biểu đồ cho việc trực quan hóa dữ liệu phù hợp.\n",
    "- Cải thiện kỹ năng trình bày và viết nhận xét.\n",
    "- Biết thêm 1 số thư viện mới trong Python như `wordcloud`."
   ]
  },
  {
   "cell_type": "markdown",
   "metadata": {},
   "source": [
    "### 1.3. Nếu có thời gian nhiều hơn, nhóm sẽ\n",
    "\n",
    "- Xử lý các dữ liệu thiếu một cách chi tiết hơn.\n",
    "- Phân tích sâu hơn về mối quan hệ giữa `overview` và các cột khác.\n",
    "- Tìm hiểu thêm về sự ảnh hưởng của thể loại đến 1 bộ phim.\n",
    "- Tìm ra nguyên nhân khiến một bộ phim có thể thành công hoặc thất bại."
   ]
  },
  {
   "cell_type": "markdown",
   "metadata": {},
   "source": [
    "## 2. Tài liệu tham khảo"
   ]
  },
  {
   "cell_type": "markdown",
   "metadata": {},
   "source": [
    "- [WordCloud](https://amueller.github.io/word_cloud/index.html): Xem cách sử dụng thư viện `wordcloud`.\n",
    "- [The Story of Film](https://www.kaggle.com/code/rounakbanik/the-story-of-film#Exploratory-Data-Analysis): Tham khảo cách khám phá dữ liệu và trả lời câu hỏi dựa trên dữ liệu."
   ]
  }
 ],
 "metadata": {
  "language_info": {
   "name": "python"
  }
 },
 "nbformat": 4,
 "nbformat_minor": 2
}
