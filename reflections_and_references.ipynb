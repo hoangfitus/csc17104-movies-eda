{
 "cells": [
  {
   "cell_type": "markdown",
   "metadata": {},
   "source": [
    "# Tự Đánh Giá và Tham Khảo\n",
    "The Movies Dataset\n",
    "\n",
    "---"
   ]
  },
  {
   "cell_type": "markdown",
   "metadata": {},
   "source": [
    "## 1. Tự đánh giá"
   ]
  },
  {
   "cell_type": "markdown",
   "metadata": {},
   "source": [
    "**Những khó khăn đã gặp phải ?**\n",
    "- Bước đặt câu hỏi là bước khó nhất sao cho câu hỏi hợp lý, có giá trị và không bị mơ hồ.\n",
    "- Nhận xét khách quan và có giá trị dựa trên dữ liệu và thống kê.\n",
    "- Chưa biết cách khai thác sâu và nhiều khía cạch của dữ liệu.\n",
    "- Chưa biết cách mở rộng câu hỏi để phán ảnh nhiều hơn về nguồn dữ liệu.\n",
    "- Gặp khó khăn trong việc sắp xếp thời gian để cân bằng giữa thi cử và làm đồ án.\n",
    "- Tay em bị thương trong quá trình làm đồ án và có 1 số chậm tiến độ hơn so với những gì đã đề ra.\n",
    "\n",
    "**Những bài học đã học được ?**\n",
    "- Biết cách tìm hiểu một bộ dữ liệu, hiểu được cách xử lý nó như thế nào.\n",
    "- Học được thêm về markdown và code python trong xử lý và biểu diễn dữ liệu bằng thư viện pandas.\n",
    "- Biết được có những dữ liệu sẽ có những cột không cần thiết và không có ích cho quá trình đánh giá dữ liệu.\n",
    "- Nhận ra bước đặt câu hỏi cũng rất quan trọng vì đặt câu hỏi hiệu quả sẽ giúp có cái nhìn tổng quan hơn về dữ liệu và sau khi trả lời câu hỏi sẽ đánh giá được nhiều khía cạnh về bộ dữ liệu hơn.\n",
    "\n",
    "**Nếu có thời gian nhiều hơn, bạn sẽ làm gì ?**\n",
    "- Em sẽ dành nhiều sự chú ý hơn cho mục preprocess để data có thể tốt hơn trong việc phân tích dữ liệu tiếp theo.\n",
    "- Phần đặt câu hỏi có lẽ nếu có thời gian hơn thì em sẽ chỉnh chu hơn trong việc giải thích đồ thị và cũng như tìm hiểu về nhiều khía cạnh hơn của câu hỏi."
   ]
  },
  {
   "cell_type": "markdown",
   "metadata": {},
   "source": [
    "## 2. Tài liệu tham khảo"
   ]
  },
  {
   "cell_type": "markdown",
   "metadata": {},
   "source": [
    "- https://github.com/atta161/FinalProject_LTKHDL_HKT\n",
    "- https://github.com/HuyHCMUS/DoAn_TH_LTKHDL"
   ]
  }
 ],
 "metadata": {
  "language_info": {
   "name": "python"
  }
 },
 "nbformat": 4,
 "nbformat_minor": 2
}
