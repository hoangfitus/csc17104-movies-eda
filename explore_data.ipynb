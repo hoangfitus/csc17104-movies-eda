{
 "cells": [
  {
   "cell_type": "markdown",
   "metadata": {},
   "source": [
    "# Khám Phá Dữ Liệu\n",
    "The Movies Dataset\n",
    "\n",
    "---"
   ]
  },
  {
   "cell_type": "markdown",
   "metadata": {},
   "source": [
    "## 0. Môi trường và Dữ Liệu\n"
   ]
  },
  {
   "cell_type": "markdown",
   "metadata": {},
   "source": [
    "Tất cả các thư viện môi trường dùng trong đồ án này được liệt kê trong file `environment.yml`.\n",
    "\n",
    "Trước khi tiến hành khám phá dữ liệu, chúng ta sẽ import các thư viện sau."
   ]
  },
  {
   "cell_type": "code",
   "execution_count": 1,
   "metadata": {},
   "outputs": [],
   "source": [
    "import numpy as np\n",
    "import pandas as pd\n",
    "import ast"
   ]
  },
  {
   "cell_type": "markdown",
   "metadata": {},
   "source": [
    "Để chuẩn bị cho việc khám phá, chúng ta sẽ lưu trữ dữ liệu của tệp tin **movies_metadata.csv** vào DataFrame là `movies`."
   ]
  },
  {
   "cell_type": "code",
   "execution_count": 2,
   "metadata": {},
   "outputs": [
    {
     "data": {
      "text/html": [
       "<div>\n",
       "<style scoped>\n",
       "    .dataframe tbody tr th:only-of-type {\n",
       "        vertical-align: middle;\n",
       "    }\n",
       "\n",
       "    .dataframe tbody tr th {\n",
       "        vertical-align: top;\n",
       "    }\n",
       "\n",
       "    .dataframe thead th {\n",
       "        text-align: right;\n",
       "    }\n",
       "</style>\n",
       "<table border=\"1\" class=\"dataframe\">\n",
       "  <thead>\n",
       "    <tr style=\"text-align: right;\">\n",
       "      <th></th>\n",
       "      <th>adult</th>\n",
       "      <th>belongs_to_collection</th>\n",
       "      <th>budget</th>\n",
       "      <th>genres</th>\n",
       "      <th>homepage</th>\n",
       "      <th>id</th>\n",
       "      <th>imdb_id</th>\n",
       "      <th>original_language</th>\n",
       "      <th>original_title</th>\n",
       "      <th>overview</th>\n",
       "      <th>...</th>\n",
       "      <th>release_date</th>\n",
       "      <th>revenue</th>\n",
       "      <th>runtime</th>\n",
       "      <th>spoken_languages</th>\n",
       "      <th>status</th>\n",
       "      <th>tagline</th>\n",
       "      <th>title</th>\n",
       "      <th>video</th>\n",
       "      <th>vote_average</th>\n",
       "      <th>vote_count</th>\n",
       "    </tr>\n",
       "  </thead>\n",
       "  <tbody>\n",
       "    <tr>\n",
       "      <th>0</th>\n",
       "      <td>False</td>\n",
       "      <td>{'id': 10194, 'name': 'Toy Story Collection', ...</td>\n",
       "      <td>30000000</td>\n",
       "      <td>[{'id': 16, 'name': 'Animation'}, {'id': 35, '...</td>\n",
       "      <td>http://toystory.disney.com/toy-story</td>\n",
       "      <td>862</td>\n",
       "      <td>tt0114709</td>\n",
       "      <td>en</td>\n",
       "      <td>Toy Story</td>\n",
       "      <td>Led by Woody, Andy's toys live happily in his ...</td>\n",
       "      <td>...</td>\n",
       "      <td>1995-10-30</td>\n",
       "      <td>373554033</td>\n",
       "      <td>81.0</td>\n",
       "      <td>[{'iso_639_1': 'en', 'name': 'English'}]</td>\n",
       "      <td>Released</td>\n",
       "      <td>NaN</td>\n",
       "      <td>Toy Story</td>\n",
       "      <td>False</td>\n",
       "      <td>7.7</td>\n",
       "      <td>5415</td>\n",
       "    </tr>\n",
       "    <tr>\n",
       "      <th>1</th>\n",
       "      <td>False</td>\n",
       "      <td>NaN</td>\n",
       "      <td>65000000</td>\n",
       "      <td>[{'id': 12, 'name': 'Adventure'}, {'id': 14, '...</td>\n",
       "      <td>NaN</td>\n",
       "      <td>8844</td>\n",
       "      <td>tt0113497</td>\n",
       "      <td>en</td>\n",
       "      <td>Jumanji</td>\n",
       "      <td>When siblings Judy and Peter discover an encha...</td>\n",
       "      <td>...</td>\n",
       "      <td>1995-12-15</td>\n",
       "      <td>262797249</td>\n",
       "      <td>104.0</td>\n",
       "      <td>[{'iso_639_1': 'en', 'name': 'English'}, {'iso...</td>\n",
       "      <td>Released</td>\n",
       "      <td>Roll the dice and unleash the excitement!</td>\n",
       "      <td>Jumanji</td>\n",
       "      <td>False</td>\n",
       "      <td>6.9</td>\n",
       "      <td>2413</td>\n",
       "    </tr>\n",
       "    <tr>\n",
       "      <th>2</th>\n",
       "      <td>False</td>\n",
       "      <td>{'id': 119050, 'name': 'Grumpy Old Men Collect...</td>\n",
       "      <td>0</td>\n",
       "      <td>[{'id': 10749, 'name': 'Romance'}, {'id': 35, ...</td>\n",
       "      <td>NaN</td>\n",
       "      <td>15602</td>\n",
       "      <td>tt0113228</td>\n",
       "      <td>en</td>\n",
       "      <td>Grumpier Old Men</td>\n",
       "      <td>A family wedding reignites the ancient feud be...</td>\n",
       "      <td>...</td>\n",
       "      <td>1995-12-22</td>\n",
       "      <td>0</td>\n",
       "      <td>101.0</td>\n",
       "      <td>[{'iso_639_1': 'en', 'name': 'English'}]</td>\n",
       "      <td>Released</td>\n",
       "      <td>Still Yelling. Still Fighting. Still Ready for...</td>\n",
       "      <td>Grumpier Old Men</td>\n",
       "      <td>False</td>\n",
       "      <td>6.5</td>\n",
       "      <td>92</td>\n",
       "    </tr>\n",
       "    <tr>\n",
       "      <th>3</th>\n",
       "      <td>False</td>\n",
       "      <td>NaN</td>\n",
       "      <td>16000000</td>\n",
       "      <td>[{'id': 35, 'name': 'Comedy'}, {'id': 18, 'nam...</td>\n",
       "      <td>NaN</td>\n",
       "      <td>31357</td>\n",
       "      <td>tt0114885</td>\n",
       "      <td>en</td>\n",
       "      <td>Waiting to Exhale</td>\n",
       "      <td>Cheated on, mistreated and stepped on, the wom...</td>\n",
       "      <td>...</td>\n",
       "      <td>1995-12-22</td>\n",
       "      <td>81452156</td>\n",
       "      <td>127.0</td>\n",
       "      <td>[{'iso_639_1': 'en', 'name': 'English'}]</td>\n",
       "      <td>Released</td>\n",
       "      <td>Friends are the people who let you be yourself...</td>\n",
       "      <td>Waiting to Exhale</td>\n",
       "      <td>False</td>\n",
       "      <td>6.1</td>\n",
       "      <td>34</td>\n",
       "    </tr>\n",
       "    <tr>\n",
       "      <th>4</th>\n",
       "      <td>False</td>\n",
       "      <td>{'id': 96871, 'name': 'Father of the Bride Col...</td>\n",
       "      <td>0</td>\n",
       "      <td>[{'id': 35, 'name': 'Comedy'}]</td>\n",
       "      <td>NaN</td>\n",
       "      <td>11862</td>\n",
       "      <td>tt0113041</td>\n",
       "      <td>en</td>\n",
       "      <td>Father of the Bride Part II</td>\n",
       "      <td>Just when George Banks has recovered from his ...</td>\n",
       "      <td>...</td>\n",
       "      <td>1995-02-10</td>\n",
       "      <td>76578911</td>\n",
       "      <td>106.0</td>\n",
       "      <td>[{'iso_639_1': 'en', 'name': 'English'}]</td>\n",
       "      <td>Released</td>\n",
       "      <td>Just When His World Is Back To Normal... He's ...</td>\n",
       "      <td>Father of the Bride Part II</td>\n",
       "      <td>False</td>\n",
       "      <td>5.7</td>\n",
       "      <td>173</td>\n",
       "    </tr>\n",
       "  </tbody>\n",
       "</table>\n",
       "<p>5 rows × 24 columns</p>\n",
       "</div>"
      ],
      "text/plain": [
       "   adult                              belongs_to_collection    budget  \\\n",
       "0  False  {'id': 10194, 'name': 'Toy Story Collection', ...  30000000   \n",
       "1  False                                                NaN  65000000   \n",
       "2  False  {'id': 119050, 'name': 'Grumpy Old Men Collect...         0   \n",
       "3  False                                                NaN  16000000   \n",
       "4  False  {'id': 96871, 'name': 'Father of the Bride Col...         0   \n",
       "\n",
       "                                              genres  \\\n",
       "0  [{'id': 16, 'name': 'Animation'}, {'id': 35, '...   \n",
       "1  [{'id': 12, 'name': 'Adventure'}, {'id': 14, '...   \n",
       "2  [{'id': 10749, 'name': 'Romance'}, {'id': 35, ...   \n",
       "3  [{'id': 35, 'name': 'Comedy'}, {'id': 18, 'nam...   \n",
       "4                     [{'id': 35, 'name': 'Comedy'}]   \n",
       "\n",
       "                               homepage     id    imdb_id original_language  \\\n",
       "0  http://toystory.disney.com/toy-story    862  tt0114709                en   \n",
       "1                                   NaN   8844  tt0113497                en   \n",
       "2                                   NaN  15602  tt0113228                en   \n",
       "3                                   NaN  31357  tt0114885                en   \n",
       "4                                   NaN  11862  tt0113041                en   \n",
       "\n",
       "                original_title  \\\n",
       "0                    Toy Story   \n",
       "1                      Jumanji   \n",
       "2             Grumpier Old Men   \n",
       "3            Waiting to Exhale   \n",
       "4  Father of the Bride Part II   \n",
       "\n",
       "                                            overview  ...  release_date  \\\n",
       "0  Led by Woody, Andy's toys live happily in his ...  ...    1995-10-30   \n",
       "1  When siblings Judy and Peter discover an encha...  ...    1995-12-15   \n",
       "2  A family wedding reignites the ancient feud be...  ...    1995-12-22   \n",
       "3  Cheated on, mistreated and stepped on, the wom...  ...    1995-12-22   \n",
       "4  Just when George Banks has recovered from his ...  ...    1995-02-10   \n",
       "\n",
       "     revenue runtime                                   spoken_languages  \\\n",
       "0  373554033    81.0           [{'iso_639_1': 'en', 'name': 'English'}]   \n",
       "1  262797249   104.0  [{'iso_639_1': 'en', 'name': 'English'}, {'iso...   \n",
       "2          0   101.0           [{'iso_639_1': 'en', 'name': 'English'}]   \n",
       "3   81452156   127.0           [{'iso_639_1': 'en', 'name': 'English'}]   \n",
       "4   76578911   106.0           [{'iso_639_1': 'en', 'name': 'English'}]   \n",
       "\n",
       "     status                                            tagline  \\\n",
       "0  Released                                                NaN   \n",
       "1  Released          Roll the dice and unleash the excitement!   \n",
       "2  Released  Still Yelling. Still Fighting. Still Ready for...   \n",
       "3  Released  Friends are the people who let you be yourself...   \n",
       "4  Released  Just When His World Is Back To Normal... He's ...   \n",
       "\n",
       "                         title  video vote_average vote_count  \n",
       "0                    Toy Story  False          7.7       5415  \n",
       "1                      Jumanji  False          6.9       2413  \n",
       "2             Grumpier Old Men  False          6.5         92  \n",
       "3            Waiting to Exhale  False          6.1         34  \n",
       "4  Father of the Bride Part II  False          5.7        173  \n",
       "\n",
       "[5 rows x 24 columns]"
      ]
     },
     "execution_count": 2,
     "metadata": {},
     "output_type": "execute_result"
    }
   ],
   "source": [
    "movies = pd.read_csv('Data/movies_metadata.csv', low_memory=False)\n",
    "movies.head(5)"
   ]
  },
  {
   "cell_type": "markdown",
   "metadata": {},
   "source": [
    "## 1. Kích thước dữ liệu"
   ]
  },
  {
   "cell_type": "code",
   "execution_count": 3,
   "metadata": {},
   "outputs": [
    {
     "name": "stdout",
     "output_type": "stream",
     "text": [
      "Số dòng của bảng movies: 45463\n",
      "Số cột của bảng movies: 24\n"
     ]
    }
   ],
   "source": [
    "movies_nrows = movies.shape[0]\n",
    "movies_ncols = movies.shape[1]\n",
    "\n",
    "print(\"Số dòng của bảng movies:\", movies_nrows)\n",
    "print(\"Số cột của bảng movies:\", movies_ncols)"
   ]
  },
  {
   "cell_type": "markdown",
   "metadata": {},
   "source": [
    "## 2. Ý nghĩa của dữ liệu"
   ]
  },
  {
   "cell_type": "markdown",
   "metadata": {},
   "source": [
    "### 2.1. Các hàng"
   ]
  },
  {
   "cell_type": "markdown",
   "metadata": {},
   "source": [
    "Trước tiên, chúng ta kiểm tra xem có dòng dữ liệu nào bị trùng không."
   ]
  },
  {
   "cell_type": "code",
   "execution_count": 4,
   "metadata": {},
   "outputs": [
    {
     "name": "stdout",
     "output_type": "stream",
     "text": [
      "Số lượng dòng trùng lặp trong bảng movies: 17\n"
     ]
    }
   ],
   "source": [
    "duplicate_movies = movies.duplicated().sum()\n",
    "\n",
    "print(\"Số lượng dòng trùng lặp trong bảng movies:\", duplicate_movies)"
   ]
  },
  {
   "cell_type": "markdown",
   "metadata": {},
   "source": [
    "Như vậy, chúng ta có các thông tin sau:\n",
    "   - Chúng ta có tổng cộng **45,463** phim và **24** trường thông tin.\n",
    "   - Mỗi dòng trong dữ liệu này chứa thông tin về một bộ phim có thể là tên, ngày phát hành, ngôn ngữ, ngân sách, doanh thu, thể loại, từ khóa, etc.\n",
    "   - Có 17 dòng dữ liệu bị trùng với nhau, chúng ta sẽ xóa chúng."
   ]
  },
  {
   "cell_type": "code",
   "execution_count": 5,
   "metadata": {},
   "outputs": [
    {
     "name": "stdout",
     "output_type": "stream",
     "text": [
      "Số lượng dòng trùng lặp sau khi xóa: 0\n",
      "Số dòng của bảng movies sau khi xóa: 45446\n"
     ]
    }
   ],
   "source": [
    "movies.drop_duplicates(inplace=True)\n",
    "duplicate_movies = movies.duplicated().sum()\n",
    "\n",
    "print(\"Số lượng dòng trùng lặp sau khi xóa:\", duplicate_movies)\n",
    "print(\"Số dòng của bảng movies sau khi xóa:\", movies.shape[0])"
   ]
  },
  {
   "cell_type": "markdown",
   "metadata": {},
   "source": [
    "### 2.2. Các cột\n",
    "\n",
    "Chúng ta hãy xem qua tên của các cột trong từng tệp dữ liệu:"
   ]
  },
  {
   "cell_type": "code",
   "execution_count": 6,
   "metadata": {},
   "outputs": [
    {
     "name": "stdout",
     "output_type": "stream",
     "text": [
      "Các cột của bảng movies:\n",
      "0                     adult\n",
      "1     belongs_to_collection\n",
      "2                    budget\n",
      "3                    genres\n",
      "4                  homepage\n",
      "5                        id\n",
      "6                   imdb_id\n",
      "7         original_language\n",
      "8            original_title\n",
      "9                  overview\n",
      "10               popularity\n",
      "11              poster_path\n",
      "12     production_companies\n",
      "13     production_countries\n",
      "14             release_date\n",
      "15                  revenue\n",
      "16                  runtime\n",
      "17         spoken_languages\n",
      "18                   status\n",
      "19                  tagline\n",
      "20                    title\n",
      "21                    video\n",
      "22             vote_average\n",
      "23               vote_count\n"
     ]
    }
   ],
   "source": [
    "print('Các cột của bảng movies:')\n",
    "print(pd.Series(movies.columns).to_string())"
   ]
  },
  {
   "cell_type": "markdown",
   "metadata": {},
   "source": [
    "Dựa trên tên của các cột và thông tin trên website, chúng ta có thể hiểu ý nghĩa của các cột như sau:\n",
    "\n",
    "- `adult`: Chỉ định nếu phim là dành cho người lớn hoặc có phân loại X-Rated.\n",
    "- `belongs_to_collection`: Một từ điển dạng chuỗi chứa thông tin về loạt phim mà phim này thuộc về.\n",
    "- `budget`: Ngân sách của phim tính bằng đô la.\n",
    "- `genres`: Một danh sách dạng chuỗi của các từ điển liệt kê tất cả các thể loại liên quan đến phim.\n",
    "- `homepage`: Trang chủ chính thức của phim.\n",
    "- `id`: ID của phim.\n",
    "- `imdb_id`: ID của phim trên IMDB.\n",
    "- `original_language`: Ngôn ngữ gốc của phim.\n",
    "- `original_title`: Tựa đề gốc của phim.\n",
    "- `overview`: Một đoạn tóm tắt ngắn về nội dung phim.\n",
    "- `popularity`: Điểm phổ biến được TMDB gán cho phim.\n",
    "- `poster_path`: Đường dẫn URL của hình ảnh áp phích.\n",
    "- `production_companies`: Một danh sách dạng chuỗi của các công ty sản xuất tham gia làm phim.\n",
    "- `production_countries`: Một danh sách dạng chuỗi của các quốc gia nơi phim được quay hoặc sản xuất.\n",
    "- `release_date`: Ngày ra rạp của phim.\n",
    "- `revenue`: Tổng doanh thu của phim tính bằng đô la.\n",
    "- `runtime`: Thời lượng của phim tính bằng phút.\n",
    "- `spoken_languages`: Một danh sách dạng chuỗi của các ngôn ngữ được nói trong phim.\n",
    "- `status`: Trạng thái của phim (Đã phát hành, Sắp phát hành, Đã công bố, v.v.).\n",
    "- `tagline`: Khẩu hiệu của phim.\n",
    "- `title`: Tựa đề chính thức của phim.\n",
    "- `video`: Chỉ định nếu có video của phim được TMDB cung cấp.\n",
    "- `vote_average`: Điểm đánh giá trung bình của phim từ 0 đến 10 của người dùng trên TMDB.\n",
    "- `vote_count`: Số lượt bình chọn của người dùng, được TMDB thống kê.\n"
   ]
  },
  {
   "cell_type": "markdown",
   "metadata": {},
   "source": [
    "Trước khi đi vào sâu hơn, chúng ta sẽ thống nhất các cột không cần thiết ngay từ đầu. Cụ thể, chúng ta sẽ loại bỏ các cột `id`, `imdb_id` và `poster_path` vì chúng chỉ là ID và url của ảnh phim, không cần thiết cho việc khám phá và phân tích dữ liệu. Mặc dù đây là phần khám phá dữ liệu, nhưng chúng ta sẽ kết hợp việc xử lý các dữ liệu bị thiếu và trùng lặp ngay từ đầu để hiệu quả hơn."
   ]
  },
  {
   "cell_type": "markdown",
   "metadata": {},
   "source": [
    "Do đó, chúng ta sẽ xóa các cột `id`, `imdb_id` và `poster_path`."
   ]
  },
  {
   "cell_type": "code",
   "execution_count": 7,
   "metadata": {},
   "outputs": [],
   "source": [
    "movies.drop(['id', 'imdb_id', 'poster_path'], axis=1, inplace=True)"
   ]
  },
  {
   "cell_type": "markdown",
   "metadata": {},
   "source": [
    "## 3. Kiểu dữ liệu\n",
    "\n",
    "Sau khi hiểu được ý nghĩa của các cột, chúng ta sẽ kiểm tra kiểu dữ liệu của chúng để xem xét cần chuyển đổi kiểu dữ liệu nào."
   ]
  },
  {
   "cell_type": "code",
   "execution_count": 8,
   "metadata": {},
   "outputs": [
    {
     "name": "stdout",
     "output_type": "stream",
     "text": [
      "Kiểu dữ liệu của các cột trong bảng movies:\n",
      "adult                       bool\n",
      "belongs_to_collection     object\n",
      "budget                     int64\n",
      "genres                    object\n",
      "homepage                  object\n",
      "original_language         object\n",
      "original_title            object\n",
      "overview                  object\n",
      "popularity               float64\n",
      "production_companies      object\n",
      "production_countries      object\n",
      "release_date              object\n",
      "revenue                    int64\n",
      "runtime                  float64\n",
      "spoken_languages          object\n",
      "status                    object\n",
      "tagline                   object\n",
      "title                     object\n",
      "video                       bool\n",
      "vote_average             float64\n",
      "vote_count                 int64\n"
     ]
    }
   ],
   "source": [
    "print('Kiểu dữ liệu của các cột trong bảng movies:')\n",
    "print(pd.Series(movies.dtypes).to_string())"
   ]
  },
  {
   "cell_type": "markdown",
   "metadata": {},
   "source": [
    "Như ta có thể thấy ở trên, các cột có kiểu dữ liệu đúng như mong đợi, có thể chúng ta sẽ cần chuyển đổi kiểu dữ liệu của một số cột. Ví dụ, cột `release_date` nên chuyển sang kiểu datetime để dễ dàng xử lý, các thông tin có kiểu là object thường là dạng string và có thể chứa các giá trị `NaN`."
   ]
  },
  {
   "cell_type": "markdown",
   "metadata": {},
   "source": [
    "Chúng ta sẽ tiến hành kiểm tra các giá trị làm cho các cột không thể chuyển đổi sang kiểu dữ liệu đúng của nó. Đồng thời, chúng ta sẽ xem xét các giá trị `NaN` trong dữ liệu."
   ]
  },
  {
   "cell_type": "markdown",
   "metadata": {},
   "source": [
    "### 3.1. Dữ liệu bị thiếu"
   ]
  },
  {
   "cell_type": "code",
   "execution_count": 9,
   "metadata": {},
   "outputs": [
    {
     "name": "stdout",
     "output_type": "stream",
     "text": [
      "adult                        0\n",
      "belongs_to_collection    40956\n",
      "budget                       0\n",
      "genres                       0\n",
      "homepage                 37669\n",
      "original_language           11\n",
      "original_title               0\n",
      "overview                   954\n",
      "popularity                   0\n",
      "production_companies         0\n",
      "production_countries         0\n",
      "release_date                84\n",
      "revenue                      0\n",
      "runtime                    257\n",
      "spoken_languages             0\n",
      "status                      81\n",
      "tagline                  25038\n",
      "title                        0\n",
      "video                        0\n",
      "vote_average                 0\n",
      "vote_count                   0\n",
      "------------------------------\n",
      "Tổng số dòng \t\t 45446\n"
     ]
    }
   ],
   "source": [
    "print(movies.isnull().sum().to_string())\n",
    "print('-'*30)\n",
    "print('Tổng số dòng \\t\\t', movies.shape[0])\n"
   ]
  },
  {
   "cell_type": "markdown",
   "metadata": {},
   "source": [
    "Chúng ta thấy rằng, trong các cột có giá trị `NaN`, 3 cột `belongs_to_collection`, `homepage`, `tagline` có tỉ lệ giá trị `NaN` khá cao.\n",
    "- `belongs_to_collection`: 90.12%\n",
    "- `homepage`: 82.89%\n",
    "- `tagline`: 55.10%\n",
    "\n",
    "Các thông tin này bị thiếu hơn 55% trở lên, chúng ta sẽ xem xét xem có cần thiết giữ lại các cột này hay không bằng cách xem xét ý nghĩa của chúng và 1 vài giá trị mẫu."
   ]
  },
  {
   "cell_type": "markdown",
   "metadata": {},
   "source": [
    "`belongs_to_collection`"
   ]
  },
  {
   "cell_type": "code",
   "execution_count": 10,
   "metadata": {},
   "outputs": [
    {
     "name": "stdout",
     "output_type": "stream",
     "text": [
      "{'id': 10194, 'name': 'Toy Story Collection', 'poster_path': '/7G9915LfUQ2lVfwMEEhDsn3kT4B.jpg', 'backdrop_path': '/9FBwqcd9IRruEDUrTdcaafOMKUq.jpg'}\n",
      "{'id': 119050, 'name': 'Grumpy Old Men Collection', 'poster_path': '/nLvUdqgPgm3F85NMCii9gVFUcet.jpg', 'backdrop_path': '/hypTnLot2z8wpFS7qwsQHW1uV8u.jpg'}\n",
      "{'id': 96871, 'name': 'Father of the Bride Collection', 'poster_path': '/nts4iOmNnq7GNicycMJ9pSAn204.jpg', 'backdrop_path': '/7qwE57OVZmMJChBpLEbJEmzUydk.jpg'}\n"
     ]
    }
   ],
   "source": [
    "collection_samples = movies[movies['belongs_to_collection'].notnull()]['belongs_to_collection'].reset_index(drop=True)\n",
    "print(collection_samples[0])\n",
    "print(collection_samples[1])\n",
    "print(collection_samples[2])"
   ]
  },
  {
   "cell_type": "markdown",
   "metadata": {},
   "source": [
    "`homepage`"
   ]
  },
  {
   "cell_type": "code",
   "execution_count": 11,
   "metadata": {},
   "outputs": [
    {
     "name": "stdout",
     "output_type": "stream",
     "text": [
      "http://toystory.disney.com/toy-story\n",
      "http://www.mgm.com/view/movie/757/Goldeneye/\n",
      "http://www.mgm.com/title_title.do?title_star=LEAVINGL\n"
     ]
    }
   ],
   "source": [
    "homepage_samples = movies[movies['homepage'].notnull()]['homepage'].reset_index(drop=True)\n",
    "print(homepage_samples[0])\n",
    "print(homepage_samples[1])\n",
    "print(homepage_samples[2])"
   ]
  },
  {
   "cell_type": "markdown",
   "metadata": {},
   "source": [
    "`tagline`"
   ]
  },
  {
   "cell_type": "code",
   "execution_count": 12,
   "metadata": {},
   "outputs": [
    {
     "name": "stdout",
     "output_type": "stream",
     "text": [
      "Roll the dice and unleash the excitement!\n",
      "Still Yelling. Still Fighting. Still Ready for Love.\n",
      "Friends are the people who let you be yourself... and never let you forget it.\n"
     ]
    }
   ],
   "source": [
    "tagline_samples = movies[movies['tagline'].notnull()]['tagline'].reset_index(drop=True)\n",
    "print(tagline_samples[0])\n",
    "print(tagline_samples[1])\n",
    "print(tagline_samples[2])"
   ]
  },
  {
   "cell_type": "markdown",
   "metadata": {},
   "source": [
    "Các giá trị mẫu của các cột cho thấy không có quá nhiều thông tin quan trọng, chúng ta có thể xóa các cột này. Tuy nhiên, chúng ta vẫn xem xét ý nghĩa của chúng để chắc chắn hơn:\n",
    "- `belongs_to_collection`: Đây là thông tin về loạt phim mà một bộ phim thuộc về. Cột này bao gồm id, tên, poster, backdrop của loạt phim. Việc tỉ lệ giá trị `NaN` quá cao là vì không phải tất cả các phim đều thuộc loạt phim. Nhưng ta vẫn có thể xem xét việc **phim thuộc 1 loạt phim** có thể ảnh hưởng đến **doanh thu** hay **đánh giá** hay không. Thế nên, ta có thể tạo ra một cột mới để lưu thông tin này. Bên cạnh đó, ta có thể khai thác 1 vài thông tin khi xét trên các phim thuộc 1 franchise nào đó (phim thuộc 1 franchise nổi tiếng thì có ảnh hưởng tốt hơn, v.v.).\n",
    "\n",
    "- `homepage`: Đây là thông tin trang chủ chính thức của phim. Việc 1 phim có trang chủ chính thức hay không không ảnh hưởng nhiều đến việc phân tích dữ liệu, chúng ta có thể loại bỏ hoàn toàn cột này.\n",
    "\n",
    "- `tagline`: Đây là khẩu hiệu của phim. Giống như `belongs_to_collection`, chúng ta có thể xem xét việc **có khẩu hiệu** hoặc **số từ** hay **từ khóa** có tác động đến **giá trị** của phim hay không. Thế nên, ta có thể tạo ra một cột mới để lưu thông tin này."
   ]
  },
  {
   "cell_type": "markdown",
   "metadata": {},
   "source": [
    "Như vậy, chúng ta sẽ xóa cột `homepage` trước."
   ]
  },
  {
   "cell_type": "code",
   "execution_count": 13,
   "metadata": {},
   "outputs": [],
   "source": [
    "movies.drop(['homepage'], axis=1, inplace=True)"
   ]
  },
  {
   "cell_type": "markdown",
   "metadata": {},
   "source": [
    "### 3.2. Dữ liệu thời gian\n",
    "\n",
    "Tiếp theo, chúng ta sẽ xem xét cột `release_date` và xem xét xem có giá trị nào không hợp lý không."
   ]
  },
  {
   "cell_type": "code",
   "execution_count": 14,
   "metadata": {},
   "outputs": [
    {
     "name": "stdout",
     "output_type": "stream",
     "text": [
      "Các giá trị release_date không hợp lệ:\n",
      "[nan]\n"
     ]
    }
   ],
   "source": [
    "invalid_release_date = movies[~pd.to_datetime(movies['release_date'], errors='coerce').notnull()]\n",
    "print('Các giá trị release_date không hợp lệ:')\n",
    "print(invalid_release_date['release_date'].unique())"
   ]
  },
  {
   "cell_type": "markdown",
   "metadata": {},
   "source": [
    "Như vậy, ngoài các giá trị `NaN`, chúng ta không thấy có giá trị nào không hợp lý trong cột `release_date`. Chúng ta sẽ chuyển cột này sang kiểu dữ liệu datetime để dễ dàng xử lý."
   ]
  },
  {
   "cell_type": "code",
   "execution_count": 15,
   "metadata": {},
   "outputs": [
    {
     "data": {
      "text/plain": [
       "0   1995-10-30\n",
       "1   1995-12-15\n",
       "2   1995-12-22\n",
       "3   1995-12-22\n",
       "4   1995-02-10\n",
       "Name: release_date, dtype: datetime64[ns]"
      ]
     },
     "execution_count": 15,
     "metadata": {},
     "output_type": "execute_result"
    }
   ],
   "source": [
    "movies['release_date'] = pd.to_datetime(movies['release_date'], errors='coerce')\n",
    "movies['release_date'].head(5)"
   ]
  },
  {
   "cell_type": "markdown",
   "metadata": {},
   "source": [
    "## 4. Thống kê mô tả\n",
    "\n",
    "Sau khi đã kiểm tra kiểu dữ liệu và xử lý một số dữ liệu bị thiếu, chúng ta sẽ xem xét một số thống kê mô tả cơ bản của dữ liệu."
   ]
  },
  {
   "cell_type": "markdown",
   "metadata": {},
   "source": [
    "### 4.1. Các cột dạng số\n",
    "\n",
    "Đâu tiên, chúng ta sẽ xem xét các cột dạng số để biết các thông tin sau:\n",
    "- Số lượng dữ liệu bị thiếu.\n",
    "- Các chỉ số thống kê như trung bình, độ lệch chuẩn, min, max, v.v.\n",
    "- Phân phối của dữ liệu.\n",
    "- Các giá trị ngoại lệ."
   ]
  },
  {
   "cell_type": "code",
   "execution_count": 16,
   "metadata": {},
   "outputs": [
    {
     "name": "stdout",
     "output_type": "stream",
     "text": [
      "Phần trăm giá trị NaN trên mỗi cột số:\n",
      "budget              0 %\n",
      "popularity          0 %\n",
      "revenue             0 %\n",
      "runtime         0.566 %\n",
      "vote_average        0 %\n",
      "vote_count          0 %\n"
     ]
    }
   ],
   "source": [
    "numeric_columns = movies.select_dtypes(include=[np.number]).columns\n",
    "numeric_nan_count = movies[numeric_columns].isnull().sum()\n",
    "print(\"Phần trăm giá trị NaN trên mỗi cột số:\")\n",
    "numeric_nan_percentage = numeric_nan_count / movies.shape[0] * 100\n",
    "numeric_nan_percentage = numeric_nan_percentage.apply(lambda x: \"0 %\" if x == 0 else f\"{round(x, 3)} %\")\n",
    "print(numeric_nan_percentage.to_string())"
   ]
  },
  {
   "cell_type": "markdown",
   "metadata": {},
   "source": [
    "Ở đây, chúng ta có thể thấy, chỉ có cột `runtime` có giá trị `NaN` và chỉ chiếm chưa đến 1% tổng số dữ liệu. Mặc dù số lượng dữ liệu bị thiếu không nhiều, nhưng chúng ta vẫn cần xem xét xem có cần điền giá trị thiếu hay xóa dòng dữ liệu đó, vì bộ phim mà thiếu thông tin thời lượng thì không hợp lý. Chúng ta sẽ xem xét thêm một số thông tin khác để quyết định xử lý dữ liệu bị thiếu."
   ]
  },
  {
   "cell_type": "code",
   "execution_count": 17,
   "metadata": {},
   "outputs": [
    {
     "data": {
      "text/html": [
       "<div>\n",
       "<style scoped>\n",
       "    .dataframe tbody tr th:only-of-type {\n",
       "        vertical-align: middle;\n",
       "    }\n",
       "\n",
       "    .dataframe tbody tr th {\n",
       "        vertical-align: top;\n",
       "    }\n",
       "\n",
       "    .dataframe thead th {\n",
       "        text-align: right;\n",
       "    }\n",
       "</style>\n",
       "<table border=\"1\" class=\"dataframe\">\n",
       "  <thead>\n",
       "    <tr style=\"text-align: right;\">\n",
       "      <th></th>\n",
       "      <th>adult</th>\n",
       "      <th>belongs_to_collection</th>\n",
       "      <th>budget</th>\n",
       "      <th>genres</th>\n",
       "      <th>original_language</th>\n",
       "      <th>original_title</th>\n",
       "      <th>overview</th>\n",
       "      <th>popularity</th>\n",
       "      <th>production_companies</th>\n",
       "      <th>production_countries</th>\n",
       "      <th>release_date</th>\n",
       "      <th>revenue</th>\n",
       "      <th>spoken_languages</th>\n",
       "      <th>status</th>\n",
       "      <th>tagline</th>\n",
       "      <th>title</th>\n",
       "      <th>video</th>\n",
       "      <th>vote_average</th>\n",
       "      <th>vote_count</th>\n",
       "    </tr>\n",
       "  </thead>\n",
       "  <tbody>\n",
       "    <tr>\n",
       "      <th>634</th>\n",
       "      <td>False</td>\n",
       "      <td>NaN</td>\n",
       "      <td>0</td>\n",
       "      <td>[{'id': 35, 'name': 'Comedy'}]</td>\n",
       "      <td>de</td>\n",
       "      <td>Peanuts – Die Bank zahlt alles</td>\n",
       "      <td>NaN</td>\n",
       "      <td>0.066123</td>\n",
       "      <td>[{'name': 'Westdeutscher Rundfunk (WDR)', 'id'...</td>\n",
       "      <td>[{'iso_3166_1': 'DE', 'name': 'Germany'}]</td>\n",
       "      <td>1996-03-21</td>\n",
       "      <td>0</td>\n",
       "      <td>[]</td>\n",
       "      <td>Released</td>\n",
       "      <td>NaN</td>\n",
       "      <td>Peanuts – Die Bank zahlt alles</td>\n",
       "      <td>False</td>\n",
       "      <td>4.0</td>\n",
       "      <td>1</td>\n",
       "    </tr>\n",
       "    <tr>\n",
       "      <th>635</th>\n",
       "      <td>False</td>\n",
       "      <td>NaN</td>\n",
       "      <td>0</td>\n",
       "      <td>[{'id': 35, 'name': 'Comedy'}]</td>\n",
       "      <td>de</td>\n",
       "      <td>Happy Weekend</td>\n",
       "      <td>NaN</td>\n",
       "      <td>0.002229</td>\n",
       "      <td>[{'name': 'Senator Film Produktion', 'id': 191}]</td>\n",
       "      <td>[{'iso_3166_1': 'DE', 'name': 'Germany'}]</td>\n",
       "      <td>1996-03-14</td>\n",
       "      <td>65335</td>\n",
       "      <td>[{'iso_639_1': 'de', 'name': 'Deutsch'}]</td>\n",
       "      <td>Released</td>\n",
       "      <td>NaN</td>\n",
       "      <td>Happy Weekend</td>\n",
       "      <td>False</td>\n",
       "      <td>0.0</td>\n",
       "      <td>0</td>\n",
       "    </tr>\n",
       "    <tr>\n",
       "      <th>644</th>\n",
       "      <td>False</td>\n",
       "      <td>NaN</td>\n",
       "      <td>0</td>\n",
       "      <td>[{'id': 18, 'name': 'Drama'}]</td>\n",
       "      <td>de</td>\n",
       "      <td>Und keiner weint mir nach</td>\n",
       "      <td>NaN</td>\n",
       "      <td>0.439989</td>\n",
       "      <td>[]</td>\n",
       "      <td>[{'iso_3166_1': 'DE', 'name': 'Germany'}]</td>\n",
       "      <td>1996-02-29</td>\n",
       "      <td>0</td>\n",
       "      <td>[{'iso_639_1': 'de', 'name': 'Deutsch'}]</td>\n",
       "      <td>Released</td>\n",
       "      <td>NaN</td>\n",
       "      <td>Und keiner weint mir nach</td>\n",
       "      <td>False</td>\n",
       "      <td>0.0</td>\n",
       "      <td>0</td>\n",
       "    </tr>\n",
       "    <tr>\n",
       "      <th>802</th>\n",
       "      <td>False</td>\n",
       "      <td>NaN</td>\n",
       "      <td>0</td>\n",
       "      <td>[{'id': 18, 'name': 'Drama'}]</td>\n",
       "      <td>de</td>\n",
       "      <td>Diebinnen</td>\n",
       "      <td>NaN</td>\n",
       "      <td>0.106345</td>\n",
       "      <td>[]</td>\n",
       "      <td>[{'iso_3166_1': 'DE', 'name': 'Germany'}]</td>\n",
       "      <td>1996-06-20</td>\n",
       "      <td>0</td>\n",
       "      <td>[]</td>\n",
       "      <td>Released</td>\n",
       "      <td>NaN</td>\n",
       "      <td>Diebinnen</td>\n",
       "      <td>False</td>\n",
       "      <td>4.0</td>\n",
       "      <td>1</td>\n",
       "    </tr>\n",
       "    <tr>\n",
       "      <th>863</th>\n",
       "      <td>False</td>\n",
       "      <td>NaN</td>\n",
       "      <td>0</td>\n",
       "      <td>[{'id': 53, 'name': 'Thriller'}]</td>\n",
       "      <td>fr</td>\n",
       "      <td>Baton Rouge</td>\n",
       "      <td>NaN</td>\n",
       "      <td>0.437895</td>\n",
       "      <td>[]</td>\n",
       "      <td>[]</td>\n",
       "      <td>1988-10-08</td>\n",
       "      <td>0</td>\n",
       "      <td>[]</td>\n",
       "      <td>Released</td>\n",
       "      <td>NaN</td>\n",
       "      <td>Baton Rouge</td>\n",
       "      <td>False</td>\n",
       "      <td>0.0</td>\n",
       "      <td>0</td>\n",
       "    </tr>\n",
       "  </tbody>\n",
       "</table>\n",
       "</div>"
      ],
      "text/plain": [
       "     adult belongs_to_collection  budget                            genres  \\\n",
       "634  False                   NaN       0    [{'id': 35, 'name': 'Comedy'}]   \n",
       "635  False                   NaN       0    [{'id': 35, 'name': 'Comedy'}]   \n",
       "644  False                   NaN       0     [{'id': 18, 'name': 'Drama'}]   \n",
       "802  False                   NaN       0     [{'id': 18, 'name': 'Drama'}]   \n",
       "863  False                   NaN       0  [{'id': 53, 'name': 'Thriller'}]   \n",
       "\n",
       "    original_language                  original_title overview  popularity  \\\n",
       "634                de  Peanuts – Die Bank zahlt alles      NaN    0.066123   \n",
       "635                de                   Happy Weekend      NaN    0.002229   \n",
       "644                de       Und keiner weint mir nach      NaN    0.439989   \n",
       "802                de                       Diebinnen      NaN    0.106345   \n",
       "863                fr                     Baton Rouge      NaN    0.437895   \n",
       "\n",
       "                                  production_companies  \\\n",
       "634  [{'name': 'Westdeutscher Rundfunk (WDR)', 'id'...   \n",
       "635   [{'name': 'Senator Film Produktion', 'id': 191}]   \n",
       "644                                                 []   \n",
       "802                                                 []   \n",
       "863                                                 []   \n",
       "\n",
       "                          production_countries release_date  revenue  \\\n",
       "634  [{'iso_3166_1': 'DE', 'name': 'Germany'}]   1996-03-21        0   \n",
       "635  [{'iso_3166_1': 'DE', 'name': 'Germany'}]   1996-03-14    65335   \n",
       "644  [{'iso_3166_1': 'DE', 'name': 'Germany'}]   1996-02-29        0   \n",
       "802  [{'iso_3166_1': 'DE', 'name': 'Germany'}]   1996-06-20        0   \n",
       "863                                         []   1988-10-08        0   \n",
       "\n",
       "                             spoken_languages    status tagline  \\\n",
       "634                                        []  Released     NaN   \n",
       "635  [{'iso_639_1': 'de', 'name': 'Deutsch'}]  Released     NaN   \n",
       "644  [{'iso_639_1': 'de', 'name': 'Deutsch'}]  Released     NaN   \n",
       "802                                        []  Released     NaN   \n",
       "863                                        []  Released     NaN   \n",
       "\n",
       "                              title  video  vote_average  vote_count  \n",
       "634  Peanuts – Die Bank zahlt alles  False           4.0           1  \n",
       "635                   Happy Weekend  False           0.0           0  \n",
       "644       Und keiner weint mir nach  False           0.0           0  \n",
       "802                       Diebinnen  False           4.0           1  \n",
       "863                     Baton Rouge  False           0.0           0  "
      ]
     },
     "execution_count": 17,
     "metadata": {},
     "output_type": "execute_result"
    }
   ],
   "source": [
    "nan_runtime_movies = movies[movies['runtime'].isnull()].drop(columns=['runtime'])\n",
    "nan_runtime_movies.head(5)"
   ]
  },
  {
   "cell_type": "code",
   "execution_count": 18,
   "metadata": {},
   "outputs": [
    {
     "name": "stdout",
     "output_type": "stream",
     "text": [
      "Xét thống số của các cột trong các phim có runtime NaN:\n",
      "Số lượng phim không có overview:\t 257\n",
      "Số lượng phim không có tagline:\t\t 257\n",
      "Số lượng phim không thuộc collection:\t 250\n",
      "Số lượng phim có budget = 0:\t\t 247\n",
      "Số lượng phim có revenue = 0:\t\t 251\n",
      "Số lượng phim có vote_count < 3:\t 198\n",
      "--------------------------------------------\n",
      "Tổng số phim có runtime NaN:\t\t 257\n"
     ]
    }
   ],
   "source": [
    "print(\"Xét thống số của các cột trong các phim có runtime NaN:\")\n",
    "\n",
    "nan_runtime_movies_with_nan_overview = nan_runtime_movies[nan_runtime_movies['overview'].isnull()]\n",
    "print(\"Số lượng phim không có overview:\\t\", nan_runtime_movies_with_nan_overview.shape[0])\n",
    "\n",
    "nan_runtime_movies_with_nan_tagline = nan_runtime_movies[nan_runtime_movies['tagline'].isnull()]\n",
    "print(\"Số lượng phim không có tagline:\\t\\t\", nan_runtime_movies_with_nan_tagline.shape[0])\n",
    "\n",
    "nan_runtime_movies_with_nan_collection = nan_runtime_movies[nan_runtime_movies['belongs_to_collection'].isnull()]\n",
    "print(\"Số lượng phim không thuộc collection:\\t\", nan_runtime_movies_with_nan_collection.shape[0])\n",
    "\n",
    "nan_runtime_movies_with_zero_budget = nan_runtime_movies[nan_runtime_movies['budget'] == 0]\n",
    "print(\"Số lượng phim có budget = 0:\\t\\t\", nan_runtime_movies_with_zero_budget.shape[0])\n",
    "\n",
    "nan_runtime_movies_with_zero_revenue = nan_runtime_movies[nan_runtime_movies['revenue'] == 0]\n",
    "print(\"Số lượng phim có revenue = 0:\\t\\t\", nan_runtime_movies_with_zero_revenue.shape[0])\n",
    "\n",
    "nan_runtime_movies_with_vote_count_smaller_than_3 = nan_runtime_movies[nan_runtime_movies['vote_count'] < 3]\n",
    "print(\"Số lượng phim có vote_count < 3:\\t\", nan_runtime_movies_with_vote_count_smaller_than_3.shape[0])\n",
    "\n",
    "print(\"-\"*44)\n",
    "print(\"Tổng số phim có runtime NaN:\\t\\t\", nan_runtime_movies.shape[0])"
   ]
  },
  {
   "cell_type": "markdown",
   "metadata": {},
   "source": [
    "Ta thấy rằng tất cả các phim không có thông tin thời lượng đều không có thông tin về overview và tagline. Ngoài ra, hơn 97% các phim không thuộc bộ sưu tập phim nào và có doanh thu lẫn ngân sách bằng 0. Hơn nữa, hơn 90% có số lượng vote là nhỏ hơn 3. Vì thế, chúng ta sẽ xóa các dòng dữ liệu này."
   ]
  },
  {
   "cell_type": "code",
   "execution_count": 19,
   "metadata": {},
   "outputs": [
    {
     "name": "stdout",
     "output_type": "stream",
     "text": [
      "Số dòng của bảng movies sau khi xóa các dòng không có runtime : 45446 ---> 45189\n"
     ]
    }
   ],
   "source": [
    "movies_len = movies.shape[0]\n",
    "movies.dropna(subset=['runtime'], inplace=True)\n",
    "print(\"Số dòng của bảng movies sau khi xóa các dòng không có runtime :\", movies_len, '--->', movies.shape[0])"
   ]
  },
  {
   "cell_type": "markdown",
   "metadata": {},
   "source": [
    "Sau khi xử lý, các cột dữ liệu số là rất thuận lợi để thực hiện các phân tích sau này. Chúng ta tiếp tục xem xét các chỉ số thống kê của các cột dữ liệu số."
   ]
  },
  {
   "cell_type": "code",
   "execution_count": 20,
   "metadata": {},
   "outputs": [],
   "source": [
    "def format_large_numbers(x):\n",
    "    if x >= 1_000_000_000:\n",
    "        b = x / 1_000_000_000\n",
    "        if b.is_integer():\n",
    "            return f\"{int(b)}B\"\n",
    "        else:\n",
    "            return f\"{b:.3f}B\"\n",
    "    elif x >= 1_000_000:\n",
    "        m = x / 1_000_000\n",
    "        if m.is_integer():\n",
    "            return f\"{int(m)}M\"\n",
    "        else:\n",
    "            return f\"{m:.3f}M\"\n",
    "    elif x.is_integer():\n",
    "        return f\"{int(x)}\"\n",
    "    else:\n",
    "        return f\"{x:.3f}\".rstrip('0').rstrip('.')"
   ]
  },
  {
   "cell_type": "code",
   "execution_count": 21,
   "metadata": {},
   "outputs": [
    {
     "data": {
      "text/html": [
       "<div>\n",
       "<style scoped>\n",
       "    .dataframe tbody tr th:only-of-type {\n",
       "        vertical-align: middle;\n",
       "    }\n",
       "\n",
       "    .dataframe tbody tr th {\n",
       "        vertical-align: top;\n",
       "    }\n",
       "\n",
       "    .dataframe thead th {\n",
       "        text-align: right;\n",
       "    }\n",
       "</style>\n",
       "<table border=\"1\" class=\"dataframe\">\n",
       "  <thead>\n",
       "    <tr style=\"text-align: right;\">\n",
       "      <th></th>\n",
       "      <th>budget</th>\n",
       "      <th>popularity</th>\n",
       "      <th>revenue</th>\n",
       "      <th>runtime</th>\n",
       "      <th>vote_average</th>\n",
       "      <th>vote_count</th>\n",
       "    </tr>\n",
       "  </thead>\n",
       "  <tbody>\n",
       "    <tr>\n",
       "      <th>count</th>\n",
       "      <td>45189</td>\n",
       "      <td>45189</td>\n",
       "      <td>45189</td>\n",
       "      <td>45189</td>\n",
       "      <td>45189</td>\n",
       "      <td>45189</td>\n",
       "    </tr>\n",
       "    <tr>\n",
       "      <th>mean</th>\n",
       "      <td>4.250M</td>\n",
       "      <td>2.937</td>\n",
       "      <td>11.276M</td>\n",
       "      <td>94.126</td>\n",
       "      <td>5.629</td>\n",
       "      <td>110.525</td>\n",
       "    </tr>\n",
       "    <tr>\n",
       "      <th>std</th>\n",
       "      <td>17.474M</td>\n",
       "      <td>6.019</td>\n",
       "      <td>64.519M</td>\n",
       "      <td>38.411</td>\n",
       "      <td>1.909</td>\n",
       "      <td>492.711</td>\n",
       "    </tr>\n",
       "    <tr>\n",
       "      <th>min</th>\n",
       "      <td>0</td>\n",
       "      <td>0</td>\n",
       "      <td>0</td>\n",
       "      <td>0</td>\n",
       "      <td>0</td>\n",
       "      <td>0</td>\n",
       "    </tr>\n",
       "    <tr>\n",
       "      <th>25%</th>\n",
       "      <td>0</td>\n",
       "      <td>0.394</td>\n",
       "      <td>0</td>\n",
       "      <td>85</td>\n",
       "      <td>5</td>\n",
       "      <td>3</td>\n",
       "    </tr>\n",
       "    <tr>\n",
       "      <th>50%</th>\n",
       "      <td>0</td>\n",
       "      <td>1.136</td>\n",
       "      <td>0</td>\n",
       "      <td>95</td>\n",
       "      <td>6</td>\n",
       "      <td>10</td>\n",
       "    </tr>\n",
       "    <tr>\n",
       "      <th>75%</th>\n",
       "      <td>0</td>\n",
       "      <td>3.719</td>\n",
       "      <td>0</td>\n",
       "      <td>107</td>\n",
       "      <td>6.8</td>\n",
       "      <td>34</td>\n",
       "    </tr>\n",
       "    <tr>\n",
       "      <th>max</th>\n",
       "      <td>380M</td>\n",
       "      <td>547.488</td>\n",
       "      <td>2.788B</td>\n",
       "      <td>1256</td>\n",
       "      <td>10</td>\n",
       "      <td>14075</td>\n",
       "    </tr>\n",
       "  </tbody>\n",
       "</table>\n",
       "</div>"
      ],
      "text/plain": [
       "        budget popularity  revenue runtime vote_average vote_count\n",
       "count    45189      45189    45189   45189        45189      45189\n",
       "mean    4.250M      2.937  11.276M  94.126        5.629    110.525\n",
       "std    17.474M      6.019  64.519M  38.411        1.909    492.711\n",
       "min          0          0        0       0            0          0\n",
       "25%          0      0.394        0      85            5          3\n",
       "50%          0      1.136        0      95            6         10\n",
       "75%          0      3.719        0     107          6.8         34\n",
       "max       380M    547.488   2.788B    1256           10      14075"
      ]
     },
     "execution_count": 21,
     "metadata": {},
     "output_type": "execute_result"
    }
   ],
   "source": [
    "numeric_description = movies.describe(include=[np.number])\n",
    "numeric_description = numeric_description.round(3)\n",
    "numeric_description = numeric_description.map(format_large_numbers)\n",
    "numeric_description"
   ]
  },
  {
   "cell_type": "markdown",
   "metadata": {},
   "source": [
    "Nhìn bảng số liệu trên, chúng ta thấy rằng:\n",
    "\n",
    "- `budget`: \n",
    "  - **Trung bình** các phim chi hơn 4 triệu USD (4.226M), nhưng **sự phân tán** lớn do độ lệch chuẩn rất cao (17.427M).\n",
    "  - **Lớn nhất** là 380 triệu USD được bỏ ra để sản xuất phim, đây có thể là các bộ phim bom tấn.\n",
    "  - **Phân phối** của ngân sách phim đều tập trung ở 0, điều này có thể là do các phim không công bố ngân sách hoặc các phim độc lập nhỏ không có thông tin ngân sách hay đơn giản là các phim có ngân sách rât thấp.\n",
    "\n",
    "- `revenue`:\n",
    "  - Tương tự như `budget`, **trung bình** doanh thu của các phim là 11.213 triệu USD, nhưng **sự phân tán** lớn (64.342 triệu USD).\n",
    "  - **Lớn nhất** là 2.788 tỷ USD, đây có thể là phim bom tấn toàn cầu.\n",
    "  - **Phân phối** của doanh thu phim cũng tập trung ở 0, tương tự thì doanh thu của phần lớn các phim rất nhỏ hoặc không được công bố hoặc không được ghi lại, nhưng phân phối cũng bị ảnh hưởng mạnh bởi một số ít phim bom tấn.\n",
    "\n",
    "- `runtime`:\n",
    "  - Thời lượng **trung bình** của các phim là 94 phút.\n",
    "  - Phim có **thời lượng lớn nhất** là 1256 phút, có thể là các bộ phim truyền hình hoặc phim tài liệu.\n",
    "  - Một nửa (50%) số phim có thời lượng từ 85 đến 107 phút, vậy đa số các phim đều là phim ngắn. Có một số ngoại lệ với thời lượng dài hơn, như đã nói, có thể là các bộ phim trong các series hoặc phim tài liệu.\n",
    "\n",
    "- `popularity`:\n",
    "  - **Trung bình** điểm phổ biến của các phim là 2.921.\n",
    "  - Phim **phổ biến nhất** có điểm là 547.488, điểm này rất cao so với trung bình, có thể là phim rất nổi tiếng.\n",
    "  - Chỉ 1/4 số phim có điểm phổ biến trên 3.679, và đa số phim (50%) đều có điểm phổ biến từ 1.128 trở xuống. Điều này cho thấy độ phổ biến bị chi phối bởi một số phim nổi bật. Phần lớn các phim có độ phổ biến rất thấp.\n",
    "\n",
    "- `vote_average`:\n",
    "  - Điểm **trung bình** của các phim là 5.618, điều này cho thấy phần lớn các phim đều có điểm trung bình trên thang điểm 10.\n",
    "  - Điểm cao nhất là 10, mặc dù vậy, điểm đánh giá chủ yếu nằm trong khoảng trung bình, ít phim đạt điểm 7 trở lên.\n",
    "\n",
    "- `vote_count`:\n",
    "  - Có vẻ như **số lượt bình chọn** của các phim không phân phối đều, với **trung bình** là 109.916, nhưng **sự phân tán** rất lớn (491.383).\n",
    "  - **Phim được bình chọn nhiều nhất** có 14075 lượt bình chọn.\n",
    "  - 50% số phim có số lượt bình chọn nhỏ hơn 10, và chỉ 25% số phim có số lượt bình chọn lớn hơn 34. Điều này cho thấy phần lớn phim nhận được ít sự quan tâm từ người dùng, nhưng một số ít phim rất nổi bật và nhận được hàng ngàn đánh giá."
   ]
  },
  {
   "cell_type": "markdown",
   "metadata": {},
   "source": [
    "### 4.2. Các cột dạng categorical\n",
    "\n",
    "Tiếp theo, chúng ta sẽ xem xét các cột dạng categorical, ta sẽ phân ra thành các nhóm như sau:\n",
    "- Các cột có giá trị đơn: `adult`, `original_language`, `status`, `video`, `belongs_to_collection`, `release_date`, `title`, `original_title`.\n",
    "- Các cột có nhiều giá trị khác nhau: `genres`, `production_companies`, `production_countries`, `spoken_languages`.\n",
    "- Các cột có giá trị là chuỗi dài: `overview`, `tagline`.\n",
    "\n",
    "Chúng ta sẽ đánh giá các cột theo từng nhóm."
   ]
  },
  {
   "cell_type": "code",
   "execution_count": 22,
   "metadata": {},
   "outputs": [],
   "source": [
    "single_value_columns = ['adult', 'video', 'status', 'original_language', 'belongs_to_collection', 'release_date', 'title', 'original_title']\n",
    "multi_value_columns = ['genres', 'production_companies', 'production_countries', 'spoken_languages']\n",
    "text_columns = ['overview', 'tagline']"
   ]
  },
  {
   "cell_type": "code",
   "execution_count": 23,
   "metadata": {},
   "outputs": [
    {
     "name": "stdout",
     "output_type": "stream",
     "text": [
      "Phần trăm giá trị NaN trên mỗi cột dạng single value:\n",
      "adult                         0 %\n",
      "video                         0 %\n",
      "status                     0.17 %\n",
      "original_language         0.024 %\n",
      "belongs_to_collection    90.079 %\n",
      "release_date              0.162 %\n",
      "title                         0 %\n",
      "original_title                0 %\n"
     ]
    }
   ],
   "source": [
    "single_nan_count = movies[single_value_columns].isnull().sum()\n",
    "single_nan_percentage = single_nan_count / movies.shape[0] * 100\n",
    "single_nan_percentage = single_nan_percentage.apply(lambda x: \"0 %\" if x == 0 else f\"{round(x, 3)} %\")\n",
    "print(\"Phần trăm giá trị NaN trên mỗi cột dạng single value:\")\n",
    "print(single_nan_percentage.to_string())"
   ]
  },
  {
   "cell_type": "markdown",
   "metadata": {},
   "source": [
    "Ngoại trừ cột `belongs_to_collection` mà chúng ta đã xem xét ở trên, chỉ có 3 cột là `status`, `original_language` và `release_date` là bị thiếu dữ liệu với tỷ lệ rất thấp (chưa đến 0.2%). Tiếp theo, chúng ta sẽ xem các thông số của các cột này, lưu ý, cột `release_date` sẽ được xem xét riêng vì nó là cột thời gian."
   ]
  },
  {
   "cell_type": "code",
   "execution_count": 24,
   "metadata": {},
   "outputs": [
    {
     "data": {
      "text/html": [
       "<div>\n",
       "<style scoped>\n",
       "    .dataframe tbody tr th:only-of-type {\n",
       "        vertical-align: middle;\n",
       "    }\n",
       "\n",
       "    .dataframe tbody tr th {\n",
       "        vertical-align: top;\n",
       "    }\n",
       "\n",
       "    .dataframe thead th {\n",
       "        text-align: right;\n",
       "    }\n",
       "</style>\n",
       "<table border=\"1\" class=\"dataframe\">\n",
       "  <thead>\n",
       "    <tr style=\"text-align: right;\">\n",
       "      <th></th>\n",
       "      <th>count</th>\n",
       "      <th>unique</th>\n",
       "      <th>top</th>\n",
       "      <th>freq</th>\n",
       "    </tr>\n",
       "  </thead>\n",
       "  <tbody>\n",
       "    <tr>\n",
       "      <th>adult</th>\n",
       "      <td>45189</td>\n",
       "      <td>2</td>\n",
       "      <td>False</td>\n",
       "      <td>45180</td>\n",
       "    </tr>\n",
       "    <tr>\n",
       "      <th>video</th>\n",
       "      <td>45189</td>\n",
       "      <td>2</td>\n",
       "      <td>False</td>\n",
       "      <td>45097</td>\n",
       "    </tr>\n",
       "    <tr>\n",
       "      <th>status</th>\n",
       "      <td>45112</td>\n",
       "      <td>6</td>\n",
       "      <td>Released</td>\n",
       "      <td>44750</td>\n",
       "    </tr>\n",
       "    <tr>\n",
       "      <th>original_language</th>\n",
       "      <td>45178</td>\n",
       "      <td>89</td>\n",
       "      <td>en</td>\n",
       "      <td>32253</td>\n",
       "    </tr>\n",
       "    <tr>\n",
       "      <th>belongs_to_collection</th>\n",
       "      <td>4483</td>\n",
       "      <td>1692</td>\n",
       "      <td>{'id': 415931, 'name': 'The Bowery Boys', 'pos...</td>\n",
       "      <td>29</td>\n",
       "    </tr>\n",
       "    <tr>\n",
       "      <th>title</th>\n",
       "      <td>45189</td>\n",
       "      <td>42029</td>\n",
       "      <td>Cinderella</td>\n",
       "      <td>11</td>\n",
       "    </tr>\n",
       "    <tr>\n",
       "      <th>original_title</th>\n",
       "      <td>45189</td>\n",
       "      <td>43122</td>\n",
       "      <td>Alice in Wonderland</td>\n",
       "      <td>8</td>\n",
       "    </tr>\n",
       "  </tbody>\n",
       "</table>\n",
       "</div>"
      ],
      "text/plain": [
       "                       count unique  \\\n",
       "adult                  45189      2   \n",
       "video                  45189      2   \n",
       "status                 45112      6   \n",
       "original_language      45178     89   \n",
       "belongs_to_collection   4483   1692   \n",
       "title                  45189  42029   \n",
       "original_title         45189  43122   \n",
       "\n",
       "                                                                     top  \\\n",
       "adult                                                              False   \n",
       "video                                                              False   \n",
       "status                                                          Released   \n",
       "original_language                                                     en   \n",
       "belongs_to_collection  {'id': 415931, 'name': 'The Bowery Boys', 'pos...   \n",
       "title                                                         Cinderella   \n",
       "original_title                                       Alice in Wonderland   \n",
       "\n",
       "                        freq  \n",
       "adult                  45180  \n",
       "video                  45097  \n",
       "status                 44750  \n",
       "original_language      32253  \n",
       "belongs_to_collection     29  \n",
       "title                     11  \n",
       "original_title             8  "
      ]
     },
     "execution_count": 24,
     "metadata": {},
     "output_type": "execute_result"
    }
   ],
   "source": [
    "movies[single_value_columns].describe(exclude=['datetime']).T"
   ]
  },
  {
   "cell_type": "markdown",
   "metadata": {},
   "source": [
    "Sau khi xem qua mô tả cơ bản thì ta có các nhận xét sau:\n",
    "\n",
    "- Giá trị chủ yếu của 2 cột boolean `adult` và `video` là **False** (chiếm hơn 99%), điều này cho thấy phần lớn các phim không phải là phim dành cho người lớn và không có video trên TMDB.\n",
    "\n",
    "- Các cột `original_language` và `status` có số giá trị khác nhau là rất ít, có thể chúng ta sẽ chuyển các cột này thành dạng category để tối ưu hơn. Bên cạnh đó, ta có thể thấy rằng phần lớn các phim đều có ngôn ngữ gốc là **tiếng Anh (en)** và trạng thái là **Released**, điều này là dễ hiểu vì dữ liệu này chủ yếu là về các bộ phim đã được phát hành và chủ yếu là phim tiếng Anh.\n",
    "\n",
    "- Chúng ta có thể thấy cột `belongs_to_collection` chứa các giá trị dưới dạng json, chúng ta phải xử lý cột này riêng để lấy thông tin cần thiết. Cột này có tỷ lệ giá trị khác nhau cũng khá thấp (khoảng 33%), ta có thể xem xét chuyển cột này sang category sau khi xử lý.\n",
    "\n",
    "- Hai cột còn lại là `title` và `original_title` có tỷ lệ giá trị khác nhau rất cao (hơn 92%), điều này là dễ hiểu vì mỗi phim sẽ có 1 tên khác biệt. Có 1 số phim trùng tên với nhau, nhưng vì ta đã xóa các dòng dữ liệu trùng lặp nên không cần phải xử lý thêm, các phim này có thể vô tình trùng tên hoặc là các bản remake. Chúng ta sẽ giữ nguyên 2 cột này."
   ]
  },
  {
   "cell_type": "markdown",
   "metadata": {},
   "source": [
    "Như đã biết ở phần đánh giá các dữ liệu bị thiếu, các giá trị không `NaN` của cột `belongs_to_collection` chứa thông tin về id, tên, url của poster và backdrop của loạt phim mà phim này thuộc về. Ở đây, chúng ta chỉ cần thông tin về tên loạt phim, vậy nên ta sẽ lấy ra tên loạt phim làm giá trị mới cho cột này."
   ]
  },
  {
   "cell_type": "code",
   "execution_count": 25,
   "metadata": {},
   "outputs": [],
   "source": [
    "def extract_name(value):\n",
    "    if pd.isna(value):\n",
    "        return np.nan\n",
    "    try:\n",
    "        json_data = ast.literal_eval(value)\n",
    "        return json_data['name']\n",
    "    except (ValueError, SyntaxError):\n",
    "        return np.nan\n",
    "\n",
    "movies['belongs_to_collection'] = movies['belongs_to_collection'].apply(extract_name)"
   ]
  },
  {
   "cell_type": "code",
   "execution_count": 26,
   "metadata": {},
   "outputs": [
    {
     "name": "stdout",
     "output_type": "stream",
     "text": [
      "['Toy Story Collection' nan 'Grumpy Old Men Collection' ...\n",
      " 'Ducobu Collection' 'Mister Blot Collection' 'Red Lotus Collection']\n",
      "count                4483\n",
      "unique               1692\n",
      "top       The Bowery Boys\n",
      "freq                   29\n",
      "Name: belongs_to_collection, dtype: object\n"
     ]
    }
   ],
   "source": [
    "print(movies['belongs_to_collection'].unique())\n",
    "print(movies['belongs_to_collection'].describe())"
   ]
  },
  {
   "cell_type": "markdown",
   "metadata": {},
   "source": [
    "Tới đây, vì số lượng giá trị khác nhau của cột cũng khá ổn, và do một số tên loạt phim khó đọc nên chúng ta cũng sẽ chuyển sang dạng category cùng với `status` và `original_language` để dễ quản lý hơn."
   ]
  },
  {
   "cell_type": "code",
   "execution_count": 27,
   "metadata": {},
   "outputs": [],
   "source": [
    "movies[['belongs_to_collection', 'status', 'original_language']] = movies[['belongs_to_collection', 'status', 'original_language']].astype('category')"
   ]
  },
  {
   "cell_type": "markdown",
   "metadata": {},
   "source": [
    "Xong, chúng ta có các giá trị category như sau:"
   ]
  },
  {
   "cell_type": "code",
   "execution_count": 28,
   "metadata": {},
   "outputs": [
    {
     "name": "stdout",
     "output_type": "stream",
     "text": [
      "belongs_to_collection\n",
      "Index(['... Has Fallen Collection', '00 Schneider Filmreihe',\n",
      "       '08/15 Collection', '100 Girls Collection',\n",
      "       '101 Dalmatians (Animated) Collection',\n",
      "       '101 Dalmatians (Live-Action) Collection', '12 Rounds Collection',\n",
      "       '1920 Collection', '2 Days In... Collection', '2001 Maniacs Collection',\n",
      "       ...\n",
      "       'Ирония судьбы (Коллекция)', 'Никто не знает про секс - Коллекция',\n",
      "       'Облако-рай (Коллекция)', 'Параграф 78 - Дилогия',\n",
      "       'Самый лучший фильм - Коллекция', 'Сказки Чуковского',\n",
      "       'Чебурашка и крокодил Гена', 'Что Творят мужчины! (Коллекция)',\n",
      "       '男はつらいよ シリーズ', '식객 시리즈'],\n",
      "      dtype='object', length=1692)\n",
      "--------------------------------------------------------------------------------\n",
      "status\n",
      "['Canceled', 'In Production', 'Planned', 'Post Production', 'Released', 'Rumored']\n",
      "--------------------------------------------------------------------------------\n",
      "original_language\n",
      "Index(['ab', 'af', 'am', 'ar', 'ay', 'bg', 'bm', 'bn', 'bo', 'bs', 'ca', 'cn',\n",
      "       'cs', 'cy', 'da', 'de', 'el', 'en', 'eo', 'es', 'et', 'eu', 'fa', 'fi',\n",
      "       'fr', 'fy', 'gl', 'he', 'hi', 'hr', 'hu', 'hy', 'id', 'is', 'it', 'iu',\n",
      "       'ja', 'jv', 'ka', 'kk', 'kn', 'ko', 'ku', 'ky', 'la', 'lb', 'lo', 'lt',\n",
      "       'lv', 'mk', 'ml', 'mn', 'mr', 'ms', 'mt', 'nb', 'ne', 'nl', 'no', 'pa',\n",
      "       'pl', 'ps', 'pt', 'qu', 'ro', 'ru', 'rw', 'sh', 'si', 'sk', 'sl', 'sm',\n",
      "       'sq', 'sr', 'sv', 'ta', 'te', 'tg', 'th', 'tl', 'tr', 'uk', 'ur', 'uz',\n",
      "       'vi', 'wo', 'xx', 'zh', 'zu'],\n",
      "      dtype='object')\n"
     ]
    }
   ],
   "source": [
    "print('belongs_to_collection')\n",
    "print(movies['belongs_to_collection'].cat.categories)\n",
    "print('-'*80)\n",
    "print('status')\n",
    "print(movies['status'].cat.categories.to_list())\n",
    "print('-'*80)\n",
    "print('original_language')\n",
    "print(movies['original_language'].cat.categories)"
   ]
  },
  {
   "cell_type": "markdown",
   "metadata": {},
   "source": [
    "Bây giờ, ta xem xét cột `release_date`:"
   ]
  },
  {
   "cell_type": "code",
   "execution_count": 29,
   "metadata": {},
   "outputs": [
    {
     "data": {
      "text/plain": [
       "count                            45116\n",
       "mean     1992-05-06 20:07:13.442680960\n",
       "min                1874-12-09 00:00:00\n",
       "25%                1978-10-01 00:00:00\n",
       "50%                2001-08-21 00:00:00\n",
       "75%                2010-12-11 06:00:00\n",
       "max                2020-12-16 00:00:00\n",
       "Name: release_date, dtype: object"
      ]
     },
     "execution_count": 29,
     "metadata": {},
     "output_type": "execute_result"
    }
   ],
   "source": [
    "movies['release_date'].describe()"
   ]
  },
  {
   "cell_type": "code",
   "execution_count": 30,
   "metadata": {},
   "outputs": [
    {
     "data": {
      "text/plain": [
       "count          45189\n",
       "unique         17289\n",
       "top       2008-01-01\n",
       "freq             135\n",
       "Name: release_date, dtype: object"
      ]
     },
     "execution_count": 30,
     "metadata": {},
     "output_type": "execute_result"
    }
   ],
   "source": [
    "movies['release_date'].astype(str).describe()"
   ]
  },
  {
   "cell_type": "markdown",
   "metadata": {},
   "source": [
    "Ta có thông tin về ngày phát hành phim như sau:\n",
    "\n",
    "- Phim đầu tiên được phát hành vào năm **1874**, và phim phát hành gần nhất mà dữ liệu ghi nhận là vào năm **2020**.\n",
    "- Ngày có nhiều phim được ra mắt nhất là **1/1/2008** với **136** phim.\n",
    "- Ngoài ra, từ **1978** tới **2010** có nhiều phim ra mắt, điều này cho thấy sự tăng trưởng trong giai đoạn này, có thể là do sự phát triển của ngành công nghiệp điện ảnh."
   ]
  },
  {
   "cell_type": "markdown",
   "metadata": {},
   "source": [
    "Bước kế tiếp, ta sẽ xem xét và xử lý các cột có nhiều giá trị khác nhau."
   ]
  },
  {
   "cell_type": "code",
   "execution_count": 31,
   "metadata": {},
   "outputs": [
    {
     "name": "stdout",
     "output_type": "stream",
     "text": [
      "Phần trăm giá trị NaN trên mỗi cột dạng multi value:\n",
      "genres                  0 %\n",
      "production_companies    0 %\n",
      "production_countries    0 %\n",
      "spoken_languages        0 %\n"
     ]
    }
   ],
   "source": [
    "multi_nan_count = movies[multi_value_columns].isnull().sum()\n",
    "multi_nan_percentage = multi_nan_count / movies.shape[0] * 100\n",
    "multi_nan_percentage = multi_nan_percentage.apply(lambda x: \"0 %\" if x == 0 else f\"{round(x, 3)} %\")\n",
    "print(\"Phần trăm giá trị NaN trên mỗi cột dạng multi value:\")\n",
    "print(multi_nan_percentage.to_string())"
   ]
  },
  {
   "cell_type": "markdown",
   "metadata": {},
   "source": [
    "Ở đây, 4 trường thông tin này đều không bị thiếu dữ liệu nào cả. Điều này cho thấy, các trường thông tin này đều được cung cấp đầy đủ thông tin. Hãy xem các thông số của các cột này."
   ]
  },
  {
   "cell_type": "code",
   "execution_count": 32,
   "metadata": {},
   "outputs": [
    {
     "data": {
      "text/html": [
       "<div>\n",
       "<style scoped>\n",
       "    .dataframe tbody tr th:only-of-type {\n",
       "        vertical-align: middle;\n",
       "    }\n",
       "\n",
       "    .dataframe tbody tr th {\n",
       "        vertical-align: top;\n",
       "    }\n",
       "\n",
       "    .dataframe thead th {\n",
       "        text-align: right;\n",
       "    }\n",
       "</style>\n",
       "<table border=\"1\" class=\"dataframe\">\n",
       "  <thead>\n",
       "    <tr style=\"text-align: right;\">\n",
       "      <th></th>\n",
       "      <th>count</th>\n",
       "      <th>unique</th>\n",
       "      <th>top</th>\n",
       "      <th>freq</th>\n",
       "    </tr>\n",
       "  </thead>\n",
       "  <tbody>\n",
       "    <tr>\n",
       "      <th>genres</th>\n",
       "      <td>45189</td>\n",
       "      <td>4060</td>\n",
       "      <td>[{'id': 18, 'name': 'Drama'}]</td>\n",
       "      <td>4968</td>\n",
       "    </tr>\n",
       "    <tr>\n",
       "      <th>production_companies</th>\n",
       "      <td>45189</td>\n",
       "      <td>22644</td>\n",
       "      <td>[]</td>\n",
       "      <td>11704</td>\n",
       "    </tr>\n",
       "    <tr>\n",
       "      <th>production_countries</th>\n",
       "      <td>45189</td>\n",
       "      <td>2386</td>\n",
       "      <td>[{'iso_3166_1': 'US', 'name': 'United States o...</td>\n",
       "      <td>17843</td>\n",
       "    </tr>\n",
       "    <tr>\n",
       "      <th>spoken_languages</th>\n",
       "      <td>45189</td>\n",
       "      <td>1928</td>\n",
       "      <td>[{'iso_639_1': 'en', 'name': 'English'}]</td>\n",
       "      <td>22385</td>\n",
       "    </tr>\n",
       "  </tbody>\n",
       "</table>\n",
       "</div>"
      ],
      "text/plain": [
       "                      count unique  \\\n",
       "genres                45189   4060   \n",
       "production_companies  45189  22644   \n",
       "production_countries  45189   2386   \n",
       "spoken_languages      45189   1928   \n",
       "\n",
       "                                                                    top   freq  \n",
       "genres                                    [{'id': 18, 'name': 'Drama'}]   4968  \n",
       "production_companies                                                 []  11704  \n",
       "production_countries  [{'iso_3166_1': 'US', 'name': 'United States o...  17843  \n",
       "spoken_languages               [{'iso_639_1': 'en', 'name': 'English'}]  22385  "
      ]
     },
     "execution_count": 32,
     "metadata": {},
     "output_type": "execute_result"
    }
   ],
   "source": [
    "movies[multi_value_columns].describe().T"
   ]
  },
  {
   "cell_type": "markdown",
   "metadata": {},
   "source": [
    "- Đầu tiên, ta có thể thấy ngay dữ liệu của các cột này đều ở dạng danh sách và chứa các giá trị khác nhau theo dạng json. Ta sẽ xử lý các cột này để lấy thông tin cần thiết.\n",
    "- Cột `production_companies` chứa tới **11870** giá trị **[]**, điều này cho thấy có rất nhiều phim không có thông tin về công ty sản xuất. Ta sẽ thay thế các giá trị này bằng `NaN` để dễ quản lý hơn. Có thể các cột còn lại cũng có vài giá trị **[]**, chúng ta cũng sẽ xử lý tương tự.\n",
    "\n",
    "Vậy nên, trước khi nhận xét thêm, ta sẽ xử lý các cột này."
   ]
  },
  {
   "cell_type": "code",
   "execution_count": 33,
   "metadata": {},
   "outputs": [],
   "source": [
    "def extract_name_list(value):\n",
    "    if pd.isna(value):\n",
    "        return np.nan\n",
    "    try:\n",
    "        json_data = ast.literal_eval(value)\n",
    "        if json_data == []:\n",
    "            return np.nan \n",
    "        return \",\".join(data.get('name', '') for data in json_data)\n",
    "    except (ValueError, SyntaxError, TypeError):\n",
    "        return np.nan\n",
    "    \n",
    "movies[multi_value_columns] = movies[multi_value_columns].map(extract_name_list)"
   ]
  },
  {
   "cell_type": "markdown",
   "metadata": {},
   "source": [
    "Sau khi xử lý, ta có các thông số như sau:"
   ]
  },
  {
   "cell_type": "code",
   "execution_count": 34,
   "metadata": {},
   "outputs": [
    {
     "name": "stdout",
     "output_type": "stream",
     "text": [
      "Phần trăm giá trị NaN trên mỗi cột dạng multi value sau khi xử lý:\n",
      "genres                   5.231 %\n",
      "production_companies      25.9 %\n",
      "production_countries    13.649 %\n",
      "spoken_languages         8.221 %\n"
     ]
    }
   ],
   "source": [
    "multi_nan_count = movies[multi_value_columns].isnull().sum()\n",
    "multi_nan_percentage = multi_nan_count / movies.shape[0] * 100\n",
    "multi_nan_percentage = multi_nan_percentage.apply(lambda x: \"0 %\" if x == 0 else f\"{round(x, 3)} %\")\n",
    "print(\"Phần trăm giá trị NaN trên mỗi cột dạng multi value sau khi xử lý:\")\n",
    "print(multi_nan_percentage.to_string())"
   ]
  },
  {
   "cell_type": "code",
   "execution_count": 35,
   "metadata": {},
   "outputs": [
    {
     "data": {
      "text/html": [
       "<div>\n",
       "<style scoped>\n",
       "    .dataframe tbody tr th:only-of-type {\n",
       "        vertical-align: middle;\n",
       "    }\n",
       "\n",
       "    .dataframe tbody tr th {\n",
       "        vertical-align: top;\n",
       "    }\n",
       "\n",
       "    .dataframe thead th {\n",
       "        text-align: right;\n",
       "    }\n",
       "</style>\n",
       "<table border=\"1\" class=\"dataframe\">\n",
       "  <thead>\n",
       "    <tr style=\"text-align: right;\">\n",
       "      <th></th>\n",
       "      <th>count</th>\n",
       "      <th>unique</th>\n",
       "      <th>top</th>\n",
       "      <th>freq</th>\n",
       "    </tr>\n",
       "  </thead>\n",
       "  <tbody>\n",
       "    <tr>\n",
       "      <th>genres</th>\n",
       "      <td>42825</td>\n",
       "      <td>4059</td>\n",
       "      <td>Drama</td>\n",
       "      <td>4968</td>\n",
       "    </tr>\n",
       "    <tr>\n",
       "      <th>production_companies</th>\n",
       "      <td>33485</td>\n",
       "      <td>22608</td>\n",
       "      <td>Metro-Goldwyn-Mayer (MGM)</td>\n",
       "      <td>742</td>\n",
       "    </tr>\n",
       "    <tr>\n",
       "      <th>production_countries</th>\n",
       "      <td>39021</td>\n",
       "      <td>2385</td>\n",
       "      <td>United States of America</td>\n",
       "      <td>17843</td>\n",
       "    </tr>\n",
       "    <tr>\n",
       "      <th>spoken_languages</th>\n",
       "      <td>41474</td>\n",
       "      <td>1840</td>\n",
       "      <td>English</td>\n",
       "      <td>22385</td>\n",
       "    </tr>\n",
       "  </tbody>\n",
       "</table>\n",
       "</div>"
      ],
      "text/plain": [
       "                      count unique                        top   freq\n",
       "genres                42825   4059                      Drama   4968\n",
       "production_companies  33485  22608  Metro-Goldwyn-Mayer (MGM)    742\n",
       "production_countries  39021   2385   United States of America  17843\n",
       "spoken_languages      41474   1840                    English  22385"
      ]
     },
     "execution_count": 35,
     "metadata": {},
     "output_type": "execute_result"
    }
   ],
   "source": [
    "movies[multi_value_columns].describe().T"
   ]
  },
  {
   "cell_type": "markdown",
   "metadata": {},
   "source": [
    "Với giá trị rõ ràng hơn, ta có các nhận xét sau:\n",
    "\n",
    "- Sau khi xử lý, tỷ lệ dữ liệu bị thiếu của các cột này tăng lên khá nhiều, nhưng vẫn ở mức chấp nhận được. Các thông tin này mặc dù có giá trị thiếu, nhưng các giá trị đó cũng mang lại nhiều hướng nhìn cho chúng ta. Ví dụ như các phim không có công ty sản xuất thường là các phim độc lập, chúng ta cũng có thể khai thác từ những thông tin như vậy.\n",
    "- Thể loại phim phổ biến nhất là **Drama** với **4999** phim trong số 43004 phim, chiếm **11.63%** tổng số phim.\n",
    "- Công ty độc quyền sản xuất nhiều phim nhất là **MGM** với **742** phim, chiếm **2.21%** tổng số phim.\n",
    "- Quốc gia sản xuất nhiều phim nhất là **United States of America** với **17847** phim, chiếm **45.56%** tổng số phim. Điều này cho thấy, phần lớn các phim trong dữ liệu đều được sản xuất tại Mỹ, và vì thế, ngôn ngữ được sử dụng chủ yếu là tiếng Anh (22390 trên tổng số 41619 phim).\n",
    "\n",
    "Ta xem thêm 1 số giá trị đơn lẻ khác của các cột trên:"
   ]
  },
  {
   "cell_type": "code",
   "execution_count": 36,
   "metadata": {},
   "outputs": [
    {
     "name": "stdout",
     "output_type": "stream",
     "text": [
      "genres: \n",
      "\t20 thể loại:\n",
      "\tDrama, Comedy, Thriller,...\n",
      "-----------------------------------------------------------------------\n",
      "production_companies: \n",
      "\t23520 công ty:\n",
      "\tWarner Bros., Metro-Goldwyn-Mayer (MGM), Paramount Pictures,...\n",
      "-----------------------------------------------------------------------\n",
      "production_countries: \n",
      "\t160 nước:\n",
      "\tUnited States of America, United Kingdom, France,...\n",
      "-----------------------------------------------------------------------\n",
      "spoken_languages: \n",
      "\t75 ngôn ngữ:\n",
      "\tEnglish, Français, Deutsch,...\n",
      "-----------------------------------------------------------------------\n"
     ]
    }
   ],
   "source": [
    "column_types = ['thể loại', 'công ty', 'nước', 'ngôn ngữ']\n",
    "for column, column_types in zip(multi_value_columns, column_types):\n",
    "    single_unique_values = movies[column].str.split(',').explode().dropna().value_counts()\n",
    "    print(f\"{column}: \\n\\t{len(single_unique_values)} {column_types}:\\n\\t{', '.join(single_unique_values.head(3).index)},...\")\n",
    "    print(\"-\"*71)"
   ]
  },
  {
   "cell_type": "markdown",
   "metadata": {},
   "source": [
    "Tiếp theo, ta sẽ xem xét các cột có giá trị là chuỗi dài. Ở đây, ta sẽ xem xét 2 cột `overview` và `tagline`. Hai cột này chứa thông tin dài về nội dung và khẩu hiệu của phim, các thông tin này chắc chắn là độc đáo và không trùng lặp. Ta sẽ xem xét các thông số của các cột này."
   ]
  },
  {
   "cell_type": "code",
   "execution_count": 37,
   "metadata": {},
   "outputs": [
    {
     "name": "stdout",
     "output_type": "stream",
     "text": [
      "Phần trăm giá trị NaN trên mỗi cột dạng text:\n",
      "overview     1.542 %\n",
      "tagline     54.839 %\n"
     ]
    }
   ],
   "source": [
    "text_nan_count = movies[text_columns].isnull().sum()\n",
    "text_nan_percentage = text_nan_count / movies.shape[0] * 100\n",
    "text_nan_percentage = text_nan_percentage.apply(lambda x: \"0 %\" if x == 0 else f\"{round(x, 3)} %\")\n",
    "print(\"Phần trăm giá trị NaN trên mỗi cột dạng text:\")\n",
    "print(text_nan_percentage.to_string())"
   ]
  },
  {
   "cell_type": "markdown",
   "metadata": {},
   "source": [
    "Như đã nói ở trên, cột `tagline` dù có tỷ lệ giá trị `NaN` khá cao, nhưng chúng ta vẫn giữ lại cột này để xem xét xem có ảnh hưởng đến giá trị của phim hay không. Còn cột `overview`, với tỷ lệ dữ liệu bị thiếu là khoảng 2%, đây là một tỷ lệ thấp, chúng ta cũng sẽ giữ lại cột này."
   ]
  },
  {
   "cell_type": "code",
   "execution_count": 38,
   "metadata": {},
   "outputs": [
    {
     "data": {
      "text/html": [
       "<div>\n",
       "<style scoped>\n",
       "    .dataframe tbody tr th:only-of-type {\n",
       "        vertical-align: middle;\n",
       "    }\n",
       "\n",
       "    .dataframe tbody tr th {\n",
       "        vertical-align: top;\n",
       "    }\n",
       "\n",
       "    .dataframe thead th {\n",
       "        text-align: right;\n",
       "    }\n",
       "</style>\n",
       "<table border=\"1\" class=\"dataframe\">\n",
       "  <thead>\n",
       "    <tr style=\"text-align: right;\">\n",
       "      <th></th>\n",
       "      <th>count</th>\n",
       "      <th>unique</th>\n",
       "      <th>top</th>\n",
       "      <th>freq</th>\n",
       "    </tr>\n",
       "  </thead>\n",
       "  <tbody>\n",
       "    <tr>\n",
       "      <th>overview</th>\n",
       "      <td>44492</td>\n",
       "      <td>44306</td>\n",
       "      <td>No overview found.</td>\n",
       "      <td>133</td>\n",
       "    </tr>\n",
       "    <tr>\n",
       "      <th>tagline</th>\n",
       "      <td>20408</td>\n",
       "      <td>20284</td>\n",
       "      <td>Based on a true story.</td>\n",
       "      <td>7</td>\n",
       "    </tr>\n",
       "  </tbody>\n",
       "</table>\n",
       "</div>"
      ],
      "text/plain": [
       "          count unique                     top freq\n",
       "overview  44492  44306      No overview found.  133\n",
       "tagline   20408  20284  Based on a true story.    7"
      ]
     },
     "execution_count": 38,
     "metadata": {},
     "output_type": "execute_result"
    }
   ],
   "source": [
    "movies[text_columns].describe().T"
   ]
  },
  {
   "cell_type": "markdown",
   "metadata": {},
   "source": [
    "Chúng ta có thể thấy:\n",
    "\n",
    "- Giá trị 'No overview found.' xuất hiện nhiều nhất trong cột `overview`, các giá trị này không giúp ích gì cho việc phân tích dữ liệu, chúng ta sẽ thay thế chúng bằng `NaN`. Bên cạnh đó, ta thấy có **44306** giá trị khác nhau trong số 44492 phim, nhưng giá trị 'No overview found.' chỉ lặp lại **133** lần, điều này cho thấy còn các giá trị khác lặp lại nhiều lần, chúng ta sẽ xem xét xử lý chúng.\n",
    "\n",
    "- Cột `tagline` có giá trị 'Based on a true story.' xuất hiện nhiều nhất, đây cũng là câu thường hay gặp trong các bộ phim. Chúng chưa cho thấy điều gì đặc biệt, chúng ta sẽ xem xét các giá trị khác để xử lý thêm."
   ]
  },
  {
   "cell_type": "code",
   "execution_count": 39,
   "metadata": {},
   "outputs": [
    {
     "name": "stdout",
     "output_type": "stream",
     "text": [
      "overview\n",
      "No overview found.                                            133\n",
      "No Overview                                                     7\n",
      "                                                                5\n",
      "A few funny little novels about different aspects of life.      3\n",
      "No movie overview available.                                    3\n",
      "Adaptation of the Jane Austen novel.                            3\n"
     ]
    }
   ],
   "source": [
    "print(movies.loc[movies['overview'].notnull(), 'overview'].value_counts().head(6).to_string())"
   ]
  },
  {
   "cell_type": "code",
   "execution_count": 40,
   "metadata": {},
   "outputs": [
    {
     "name": "stdout",
     "output_type": "stream",
     "text": [
      "tagline\n",
      "Based on a true story.           7\n",
      "Be careful what you wish for.    4\n",
      "-                                4\n",
      "Trust no one.                    4\n",
      "Know Your Enemy                  3\n",
      "The end is near.                 3\n"
     ]
    }
   ],
   "source": [
    "print(movies.loc[movies['tagline'].notnull(), 'tagline'].value_counts().head(6).to_string())"
   ]
  },
  {
   "cell_type": "markdown",
   "metadata": {},
   "source": [
    "Cột `overview` xuất hiện các thông tin không hợp lý như 'No overview found.', ' ' hoặc 'No movie overview available.', chúng ta sẽ tìm hết các giá trị tương tự và thay thế chúng bằng `NaN` vì chúng không giúp ích gì cho việc phân tích dữ liệu và có thể ảnh hưởng đến kết quả.\n",
    "\n",
    "Cột `tagline` thì có giá trị '-' là không hợp lý, nhưng chúng xuất hiện khá ít (4 lần), chúng ta có thể mặc kệ."
   ]
  },
  {
   "cell_type": "code",
   "execution_count": 41,
   "metadata": {},
   "outputs": [
    {
     "name": "stdout",
     "output_type": "stream",
     "text": [
      "Các giá trị không hợp lệ trong cột overview\n",
      "No overview found.                                               133\n",
      "No Overview                                                        7\n",
      "                                                                   5\n",
      "No movie overview available.                                       3\n",
      "No overview yet.                                                   2\n",
      "No overview found                                                  1\n",
      "No movie overview available, please add one at themoviedb.org      1\n",
      "No overview                                                        1\n",
      "no overview yet                                                    1\n",
      "No overview.                                                       1\n",
      "No plot overview available                                         1\n",
      "---------------------------------------------------------------------\n",
      "Tổng: \t\t\t\t\t\t\t\t 156\n"
     ]
    }
   ],
   "source": [
    "invalid_overview = movies.loc[\n",
    "    (movies['overview'].notnull() & movies['overview'].str.contains('no ', case=False) & movies['overview'].str.contains('overview', case=False)) |\n",
    "    (movies['overview'] == ' '), \n",
    "    'overview']\n",
    "print(\"Các giá trị không hợp lệ trong cột\", invalid_overview.value_counts().to_string())\n",
    "print ('-'*69)\n",
    "print(\"Tổng:\",'\\t'*8, invalid_overview.count())"
   ]
  },
  {
   "cell_type": "code",
   "execution_count": 42,
   "metadata": {},
   "outputs": [
    {
     "name": "stdout",
     "output_type": "stream",
     "text": [
      "Giá trị NaN sau khi xử lý: 697 ---> 853\n"
     ]
    }
   ],
   "source": [
    "nan_overview_count = movies['overview'].isnull().sum()\n",
    "movies.loc[invalid_overview.index, 'overview'] = np.nan\n",
    "\n",
    "print('Giá trị NaN sau khi xử lý:', nan_overview_count, '--->', movies['overview'].isnull().sum())"
   ]
  },
  {
   "cell_type": "code",
   "execution_count": 43,
   "metadata": {},
   "outputs": [
    {
     "data": {
      "text/html": [
       "<div>\n",
       "<style scoped>\n",
       "    .dataframe tbody tr th:only-of-type {\n",
       "        vertical-align: middle;\n",
       "    }\n",
       "\n",
       "    .dataframe tbody tr th {\n",
       "        vertical-align: top;\n",
       "    }\n",
       "\n",
       "    .dataframe thead th {\n",
       "        text-align: right;\n",
       "    }\n",
       "</style>\n",
       "<table border=\"1\" class=\"dataframe\">\n",
       "  <thead>\n",
       "    <tr style=\"text-align: right;\">\n",
       "      <th></th>\n",
       "      <th>count</th>\n",
       "      <th>unique</th>\n",
       "      <th>top</th>\n",
       "      <th>freq</th>\n",
       "    </tr>\n",
       "  </thead>\n",
       "  <tbody>\n",
       "    <tr>\n",
       "      <th>overview</th>\n",
       "      <td>44336</td>\n",
       "      <td>44295</td>\n",
       "      <td>Adaptation of the Jane Austen novel.</td>\n",
       "      <td>3</td>\n",
       "    </tr>\n",
       "    <tr>\n",
       "      <th>tagline</th>\n",
       "      <td>20408</td>\n",
       "      <td>20284</td>\n",
       "      <td>Based on a true story.</td>\n",
       "      <td>7</td>\n",
       "    </tr>\n",
       "  </tbody>\n",
       "</table>\n",
       "</div>"
      ],
      "text/plain": [
       "          count unique                                   top freq\n",
       "overview  44336  44295  Adaptation of the Jane Austen novel.    3\n",
       "tagline   20408  20284                Based on a true story.    7"
      ]
     },
     "execution_count": 43,
     "metadata": {},
     "output_type": "execute_result"
    }
   ],
   "source": [
    "movies[text_columns].describe().T"
   ]
  },
  {
   "cell_type": "markdown",
   "metadata": {},
   "source": [
    "Trước khi tổng kết, ta sẽ thay tất cả giá trị `NaN` trong dữ liệu bằng `UNKNOWN` để việc minh họa dễ nhìn hơn."
   ]
  },
  {
   "cell_type": "code",
   "execution_count": 44,
   "metadata": {},
   "outputs": [
    {
     "data": {
      "text/html": [
       "<div>\n",
       "<style scoped>\n",
       "    .dataframe tbody tr th:only-of-type {\n",
       "        vertical-align: middle;\n",
       "    }\n",
       "\n",
       "    .dataframe tbody tr th {\n",
       "        vertical-align: top;\n",
       "    }\n",
       "\n",
       "    .dataframe thead th {\n",
       "        text-align: right;\n",
       "    }\n",
       "</style>\n",
       "<table border=\"1\" class=\"dataframe\">\n",
       "  <thead>\n",
       "    <tr style=\"text-align: right;\">\n",
       "      <th></th>\n",
       "      <th>adult</th>\n",
       "      <th>belongs_to_collection</th>\n",
       "      <th>budget</th>\n",
       "      <th>genres</th>\n",
       "      <th>original_language</th>\n",
       "      <th>original_title</th>\n",
       "      <th>overview</th>\n",
       "      <th>popularity</th>\n",
       "      <th>production_companies</th>\n",
       "      <th>production_countries</th>\n",
       "      <th>release_date</th>\n",
       "      <th>revenue</th>\n",
       "      <th>runtime</th>\n",
       "      <th>spoken_languages</th>\n",
       "      <th>status</th>\n",
       "      <th>tagline</th>\n",
       "      <th>title</th>\n",
       "      <th>video</th>\n",
       "      <th>vote_average</th>\n",
       "      <th>vote_count</th>\n",
       "    </tr>\n",
       "  </thead>\n",
       "  <tbody>\n",
       "    <tr>\n",
       "      <th>0</th>\n",
       "      <td>False</td>\n",
       "      <td>Toy Story Collection</td>\n",
       "      <td>30000000</td>\n",
       "      <td>Animation,Comedy,Family</td>\n",
       "      <td>en</td>\n",
       "      <td>Toy Story</td>\n",
       "      <td>Led by Woody, Andy's toys live happily in his ...</td>\n",
       "      <td>21.946943</td>\n",
       "      <td>Pixar Animation Studios</td>\n",
       "      <td>United States of America</td>\n",
       "      <td>1995-10-30 00:00:00</td>\n",
       "      <td>373554033</td>\n",
       "      <td>81.0</td>\n",
       "      <td>English</td>\n",
       "      <td>Released</td>\n",
       "      <td>UNKNOWN</td>\n",
       "      <td>Toy Story</td>\n",
       "      <td>False</td>\n",
       "      <td>7.7</td>\n",
       "      <td>5415</td>\n",
       "    </tr>\n",
       "    <tr>\n",
       "      <th>1</th>\n",
       "      <td>False</td>\n",
       "      <td>UNKNOWN</td>\n",
       "      <td>65000000</td>\n",
       "      <td>Adventure,Fantasy,Family</td>\n",
       "      <td>en</td>\n",
       "      <td>Jumanji</td>\n",
       "      <td>When siblings Judy and Peter discover an encha...</td>\n",
       "      <td>17.015539</td>\n",
       "      <td>TriStar Pictures,Teitler Film,Interscope Commu...</td>\n",
       "      <td>United States of America</td>\n",
       "      <td>1995-12-15 00:00:00</td>\n",
       "      <td>262797249</td>\n",
       "      <td>104.0</td>\n",
       "      <td>English,Français</td>\n",
       "      <td>Released</td>\n",
       "      <td>Roll the dice and unleash the excitement!</td>\n",
       "      <td>Jumanji</td>\n",
       "      <td>False</td>\n",
       "      <td>6.9</td>\n",
       "      <td>2413</td>\n",
       "    </tr>\n",
       "    <tr>\n",
       "      <th>2</th>\n",
       "      <td>False</td>\n",
       "      <td>Grumpy Old Men Collection</td>\n",
       "      <td>0</td>\n",
       "      <td>Romance,Comedy</td>\n",
       "      <td>en</td>\n",
       "      <td>Grumpier Old Men</td>\n",
       "      <td>A family wedding reignites the ancient feud be...</td>\n",
       "      <td>11.712900</td>\n",
       "      <td>Warner Bros.,Lancaster Gate</td>\n",
       "      <td>United States of America</td>\n",
       "      <td>1995-12-22 00:00:00</td>\n",
       "      <td>0</td>\n",
       "      <td>101.0</td>\n",
       "      <td>English</td>\n",
       "      <td>Released</td>\n",
       "      <td>Still Yelling. Still Fighting. Still Ready for...</td>\n",
       "      <td>Grumpier Old Men</td>\n",
       "      <td>False</td>\n",
       "      <td>6.5</td>\n",
       "      <td>92</td>\n",
       "    </tr>\n",
       "    <tr>\n",
       "      <th>3</th>\n",
       "      <td>False</td>\n",
       "      <td>UNKNOWN</td>\n",
       "      <td>16000000</td>\n",
       "      <td>Comedy,Drama,Romance</td>\n",
       "      <td>en</td>\n",
       "      <td>Waiting to Exhale</td>\n",
       "      <td>Cheated on, mistreated and stepped on, the wom...</td>\n",
       "      <td>3.859495</td>\n",
       "      <td>Twentieth Century Fox Film Corporation</td>\n",
       "      <td>United States of America</td>\n",
       "      <td>1995-12-22 00:00:00</td>\n",
       "      <td>81452156</td>\n",
       "      <td>127.0</td>\n",
       "      <td>English</td>\n",
       "      <td>Released</td>\n",
       "      <td>Friends are the people who let you be yourself...</td>\n",
       "      <td>Waiting to Exhale</td>\n",
       "      <td>False</td>\n",
       "      <td>6.1</td>\n",
       "      <td>34</td>\n",
       "    </tr>\n",
       "    <tr>\n",
       "      <th>4</th>\n",
       "      <td>False</td>\n",
       "      <td>Father of the Bride Collection</td>\n",
       "      <td>0</td>\n",
       "      <td>Comedy</td>\n",
       "      <td>en</td>\n",
       "      <td>Father of the Bride Part II</td>\n",
       "      <td>Just when George Banks has recovered from his ...</td>\n",
       "      <td>8.387519</td>\n",
       "      <td>Sandollar Productions,Touchstone Pictures</td>\n",
       "      <td>United States of America</td>\n",
       "      <td>1995-02-10 00:00:00</td>\n",
       "      <td>76578911</td>\n",
       "      <td>106.0</td>\n",
       "      <td>English</td>\n",
       "      <td>Released</td>\n",
       "      <td>Just When His World Is Back To Normal... He's ...</td>\n",
       "      <td>Father of the Bride Part II</td>\n",
       "      <td>False</td>\n",
       "      <td>5.7</td>\n",
       "      <td>173</td>\n",
       "    </tr>\n",
       "  </tbody>\n",
       "</table>\n",
       "</div>"
      ],
      "text/plain": [
       "   adult           belongs_to_collection    budget                    genres  \\\n",
       "0  False            Toy Story Collection  30000000   Animation,Comedy,Family   \n",
       "1  False                         UNKNOWN  65000000  Adventure,Fantasy,Family   \n",
       "2  False       Grumpy Old Men Collection         0            Romance,Comedy   \n",
       "3  False                         UNKNOWN  16000000      Comedy,Drama,Romance   \n",
       "4  False  Father of the Bride Collection         0                    Comedy   \n",
       "\n",
       "  original_language               original_title  \\\n",
       "0                en                    Toy Story   \n",
       "1                en                      Jumanji   \n",
       "2                en             Grumpier Old Men   \n",
       "3                en            Waiting to Exhale   \n",
       "4                en  Father of the Bride Part II   \n",
       "\n",
       "                                            overview  popularity  \\\n",
       "0  Led by Woody, Andy's toys live happily in his ...   21.946943   \n",
       "1  When siblings Judy and Peter discover an encha...   17.015539   \n",
       "2  A family wedding reignites the ancient feud be...   11.712900   \n",
       "3  Cheated on, mistreated and stepped on, the wom...    3.859495   \n",
       "4  Just when George Banks has recovered from his ...    8.387519   \n",
       "\n",
       "                                production_companies  \\\n",
       "0                            Pixar Animation Studios   \n",
       "1  TriStar Pictures,Teitler Film,Interscope Commu...   \n",
       "2                        Warner Bros.,Lancaster Gate   \n",
       "3             Twentieth Century Fox Film Corporation   \n",
       "4          Sandollar Productions,Touchstone Pictures   \n",
       "\n",
       "       production_countries         release_date    revenue  runtime  \\\n",
       "0  United States of America  1995-10-30 00:00:00  373554033     81.0   \n",
       "1  United States of America  1995-12-15 00:00:00  262797249    104.0   \n",
       "2  United States of America  1995-12-22 00:00:00          0    101.0   \n",
       "3  United States of America  1995-12-22 00:00:00   81452156    127.0   \n",
       "4  United States of America  1995-02-10 00:00:00   76578911    106.0   \n",
       "\n",
       "   spoken_languages    status  \\\n",
       "0           English  Released   \n",
       "1  English,Français  Released   \n",
       "2           English  Released   \n",
       "3           English  Released   \n",
       "4           English  Released   \n",
       "\n",
       "                                             tagline  \\\n",
       "0                                            UNKNOWN   \n",
       "1          Roll the dice and unleash the excitement!   \n",
       "2  Still Yelling. Still Fighting. Still Ready for...   \n",
       "3  Friends are the people who let you be yourself...   \n",
       "4  Just When His World Is Back To Normal... He's ...   \n",
       "\n",
       "                         title  video  vote_average  vote_count  \n",
       "0                    Toy Story  False           7.7        5415  \n",
       "1                      Jumanji  False           6.9        2413  \n",
       "2             Grumpier Old Men  False           6.5          92  \n",
       "3            Waiting to Exhale  False           6.1          34  \n",
       "4  Father of the Bride Part II  False           5.7         173  "
      ]
     },
     "execution_count": 44,
     "metadata": {},
     "output_type": "execute_result"
    }
   ],
   "source": [
    "for col in movies.select_dtypes(['category']).columns:\n",
    "    movies[col] = movies[col].cat.add_categories('UNKNOWN')\n",
    "\n",
    "movies = movies.fillna('UNKNOWN')\n",
    "movies = movies.replace('', 'UNKNOWN')\n",
    "movies.head(5)"
   ]
  },
  {
   "cell_type": "markdown",
   "metadata": {},
   "source": [
    "Như vậy, tổng kết lại, ta có các nhận xét sau:\n",
    "\n",
    "- Dữ liệu sau khi xử lý xuất hiện nhiều chỗ bị thiếu hơn, nhưng các giá trị bị thiếu này, như chúng ta đã nói ở trên, cũng cung cấp cho chúng ta nhiều hướng phân tích hơn. Vì dữ liệu phim trải dài từ năm 1874 đến 2020, nên có thể phim không còn thông tin, các phim cũ, phim độc lập hoặc phim ít người biết sẽ không có nhiều thông tin như các phim thời hiện đại.\n",
    "- Đa số các cột dữ liệu số đều có phân phối tập trung về 1 phía (`budget`, `revenue`, `popularity`), điều này là do các giá trị cao đột biến (các phim bom tấn) ảnh hưởng đến phân phối. Số lượng phim như vậy rất ít, nhưng chúng ảnh hưởng rất lớn đến phân phối.\n",
    "- Đa số các phim đều có giá trị 0 ở các cột `budget` và `revenue`, điều này là do các phim không công bố ngân sách hoặc doanh thu, hoặc là các phim độc lập nhỏ không có thông tin ngân sách hoặc doanh thu, cũng có thể là tập dữ liệu phim cũ và ít người biết chiếm số lượng lớn.\n",
    "\n",
    "Tóm lại, sau khi khám phá và xử lý các thông tin của bộ dữ liệu, chúng ta đã có cái nhìn tổng quan về dữ liệu, tiếp theo ta sẽ xuất dữ liệu ra file mới để sử dụng cho việc phân tích và trả lời câu hỏi."
   ]
  },
  {
   "cell_type": "code",
   "execution_count": 45,
   "metadata": {},
   "outputs": [],
   "source": [
    "movies.to_csv('Data/movies_cleaned.csv', index=False)"
   ]
  }
 ],
 "metadata": {
  "kernelspec": {
   "display_name": "eda-env",
   "language": "python",
   "name": "python3"
  },
  "language_info": {
   "codemirror_mode": {
    "name": "ipython",
    "version": 3
   },
   "file_extension": ".py",
   "mimetype": "text/x-python",
   "name": "python",
   "nbconvert_exporter": "python",
   "pygments_lexer": "ipython3",
   "version": "3.11.7"
  }
 },
 "nbformat": 4,
 "nbformat_minor": 2
}
